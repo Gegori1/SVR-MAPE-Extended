{
 "cells": [
  {
   "cell_type": "code",
   "execution_count": 72,
   "metadata": {
    "ExecuteTime": {
     "end_time": "2021-06-20T20:08:41.888657Z",
     "start_time": "2021-06-20T20:08:41.876663Z"
    }
   },
   "outputs": [],
   "source": [
    "### Libraries"
   ]
  },
  {
   "cell_type": "code",
   "execution_count": 1,
   "metadata": {
    "ExecuteTime": {
     "end_time": "2021-06-21T14:53:49.650038Z",
     "start_time": "2021-06-21T14:53:41.745661Z"
    }
   },
   "outputs": [
    {
     "data": {
      "text/html": [
       "        <script type=\"text/javascript\">\n",
       "        window.PlotlyConfig = {MathJaxConfig: 'local'};\n",
       "        if (window.MathJax) {MathJax.Hub.Config({SVG: {font: \"STIX-Web\"}});}\n",
       "        if (typeof require !== 'undefined') {\n",
       "        require.undef(\"plotly\");\n",
       "        requirejs.config({\n",
       "            paths: {\n",
       "                'plotly': ['https://cdn.plot.ly/plotly-latest.min']\n",
       "            }\n",
       "        });\n",
       "        require(['plotly'], function(Plotly) {\n",
       "            window._Plotly = Plotly;\n",
       "        });\n",
       "        }\n",
       "        </script>\n",
       "        "
      ]
     },
     "metadata": {},
     "output_type": "display_data"
    }
   ],
   "source": [
    "import numpy as np\n",
    "import pandas as pd\n",
    "from pathlib import Path\n",
    "import matplotlib.pyplot as plt \n",
    "import cufflinks as cf\n",
    "cf.go_offline()\n",
    "import plotly.express as px"
   ]
  },
  {
   "cell_type": "markdown",
   "metadata": {},
   "source": [
    "# Boston"
   ]
  },
  {
   "cell_type": "code",
   "execution_count": 2,
   "metadata": {
    "ExecuteTime": {
     "end_time": "2021-06-21T14:53:49.666034Z",
     "start_time": "2021-06-21T14:53:49.657032Z"
    }
   },
   "outputs": [],
   "source": [
    "### load data"
   ]
  },
  {
   "cell_type": "code",
   "execution_count": 94,
   "metadata": {
    "ExecuteTime": {
     "end_time": "2021-06-21T15:50:01.446827Z",
     "start_time": "2021-06-21T15:50:01.376003Z"
    }
   },
   "outputs": [],
   "source": [
    "jsn_path = Path().resolve() / \"Logs\" / \"Boston.json\"\n",
    "data = pd.read_json(jsn_path , lines = True).drop([\"datetime\"], axis = 1)"
   ]
  },
  {
   "cell_type": "code",
   "execution_count": 95,
   "metadata": {
    "ExecuteTime": {
     "end_time": "2021-06-21T15:50:01.619136Z",
     "start_time": "2021-06-21T15:50:01.602143Z"
    }
   },
   "outputs": [],
   "source": [
    "### convert data"
   ]
  },
  {
   "cell_type": "code",
   "execution_count": 96,
   "metadata": {
    "ExecuteTime": {
     "end_time": "2021-06-21T15:50:01.854139Z",
     "start_time": "2021-06-21T15:50:01.795135Z"
    }
   },
   "outputs": [],
   "source": [
    "params = pd.json_normalize(data['params'])"
   ]
  },
  {
   "cell_type": "code",
   "execution_count": 97,
   "metadata": {
    "ExecuteTime": {
     "end_time": "2021-06-21T15:50:01.996136Z",
     "start_time": "2021-06-21T15:50:01.975137Z"
    }
   },
   "outputs": [],
   "source": [
    "df = pd.concat([data[[\"target\"]]*-1, params], axis = 1)"
   ]
  },
  {
   "cell_type": "code",
   "execution_count": 98,
   "metadata": {
    "ExecuteTime": {
     "end_time": "2021-06-21T15:50:02.151172Z",
     "start_time": "2021-06-21T15:50:02.131135Z"
    }
   },
   "outputs": [],
   "source": [
    "## plot"
   ]
  },
  {
   "cell_type": "code",
   "execution_count": 104,
   "metadata": {
    "ExecuteTime": {
     "end_time": "2021-06-21T15:57:00.864275Z",
     "start_time": "2021-06-21T15:57:00.837282Z"
    }
   },
   "outputs": [],
   "source": [
    "df1 = df.query(\"target < 9.2\")\n",
    "df2 = df.query(\"target < 17\")"
   ]
  },
  {
   "cell_type": "code",
   "execution_count": 105,
   "metadata": {
    "ExecuteTime": {
     "end_time": "2021-06-21T15:57:01.082899Z",
     "start_time": "2021-06-21T15:57:01.073900Z"
    }
   },
   "outputs": [],
   "source": [
    "# px.scatter(df1, x=\"gamma\", y=\"C\", color=\"target\")"
   ]
  },
  {
   "cell_type": "code",
   "execution_count": null,
   "metadata": {
    "ExecuteTime": {
     "end_time": "2021-06-21T16:04:26.849914Z",
     "start_time": "2021-06-21T16:04:26.374278Z"
    }
   },
   "outputs": [],
   "source": [
    "px.scatter_3d(df1, x = \"lamda\", y = \"gamma\", z = \"C\", color = \"target\")"
   ]
  }
 ],
 "metadata": {
  "kernelspec": {
   "display_name": "Python 3",
   "language": "python",
   "name": "python3"
  },
  "language_info": {
   "codemirror_mode": {
    "name": "ipython",
    "version": 3
   },
   "file_extension": ".py",
   "mimetype": "text/x-python",
   "name": "python",
   "nbconvert_exporter": "python",
   "pygments_lexer": "ipython3",
   "version": "3.7.7"
  },
  "toc": {
   "base_numbering": 1,
   "nav_menu": {},
   "number_sections": true,
   "sideBar": true,
   "skip_h1_title": false,
   "title_cell": "Table of Contents",
   "title_sidebar": "Contents",
   "toc_cell": false,
   "toc_position": {},
   "toc_section_display": true,
   "toc_window_display": false
  }
 },
 "nbformat": 4,
 "nbformat_minor": 4
}
