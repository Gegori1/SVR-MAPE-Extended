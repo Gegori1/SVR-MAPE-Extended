{
 "cells": [
  {
   "cell_type": "markdown",
   "metadata": {},
   "source": [
    "## Libraries"
   ]
  },
  {
   "cell_type": "code",
   "execution_count": 714,
   "metadata": {
    "ExecuteTime": {
     "end_time": "2021-06-23T03:17:44.052486Z",
     "start_time": "2021-06-23T03:17:44.045452Z"
    }
   },
   "outputs": [],
   "source": [
    "import numpy as np\n",
    "import pandas as pd\n",
    "from sklearn import metrics\n",
    "import matplotlib.pyplot as plt\n",
    "from sklearn.datasets import load_boston\n",
    "from sklearn.preprocessing import StandardScaler\n",
    "from sklearn.model_selection import train_test_split"
   ]
  },
  {
   "cell_type": "code",
   "execution_count": 762,
   "metadata": {
    "ExecuteTime": {
     "end_time": "2021-06-23T03:22:55.288298Z",
     "start_time": "2021-06-23T03:22:55.254186Z"
    }
   },
   "outputs": [],
   "source": [
    "%run ..//Library//MapeExtended_Library.ipynb "
   ]
  },
  {
   "cell_type": "markdown",
   "metadata": {},
   "source": [
    "### Functions"
   ]
  },
  {
   "cell_type": "code",
   "execution_count": 716,
   "metadata": {
    "ExecuteTime": {
     "end_time": "2021-06-23T03:17:45.003263Z",
     "start_time": "2021-06-23T03:17:44.985302Z"
    }
   },
   "outputs": [],
   "source": [
    "def mape_score(y_real, y_predict):\n",
    "    return np.mean(np.abs((y_real - y_predict)/y_real))*100"
   ]
  },
  {
   "cell_type": "markdown",
   "metadata": {},
   "source": [
    "## Boston houses dataset"
   ]
  },
  {
   "cell_type": "code",
   "execution_count": 717,
   "metadata": {
    "ExecuteTime": {
     "end_time": "2021-06-23T03:17:45.654165Z",
     "start_time": "2021-06-23T03:17:45.626208Z"
    }
   },
   "outputs": [],
   "source": [
    "boston = load_boston()\n",
    "\n",
    "# Initializing the dataframe\n",
    "data = pd.DataFrame(boston.data)\n",
    "\n",
    "#Adding the feature names to the dataframe\n",
    "data.columns = boston.feature_names"
   ]
  },
  {
   "cell_type": "code",
   "execution_count": 718,
   "metadata": {
    "ExecuteTime": {
     "end_time": "2021-06-23T03:17:45.901509Z",
     "start_time": "2021-06-23T03:17:45.884476Z"
    }
   },
   "outputs": [],
   "source": [
    "#Adding target variable to dataframe\n",
    "data['PRICE'] = boston.target "
   ]
  },
  {
   "cell_type": "code",
   "execution_count": 719,
   "metadata": {
    "ExecuteTime": {
     "end_time": "2021-06-23T03:17:46.246042Z",
     "start_time": "2021-06-23T03:17:46.227077Z"
    }
   },
   "outputs": [],
   "source": [
    "# Spliting target variable and independent variables\n",
    "X = data.drop(['PRICE'], axis = 1)\n",
    "y = data['PRICE']"
   ]
  },
  {
   "cell_type": "code",
   "execution_count": 720,
   "metadata": {
    "ExecuteTime": {
     "end_time": "2021-06-23T03:17:46.541211Z",
     "start_time": "2021-06-23T03:17:46.526170Z"
    }
   },
   "outputs": [],
   "source": [
    "# X = pd.read_csv(\"newBoston.csv\")"
   ]
  },
  {
   "cell_type": "code",
   "execution_count": 721,
   "metadata": {
    "ExecuteTime": {
     "end_time": "2021-06-23T03:17:47.038219Z",
     "start_time": "2021-06-23T03:17:47.026257Z"
    }
   },
   "outputs": [],
   "source": [
    "# Splitting to training and testing data\n",
    "X_train, X_test, y_train, y_test = train_test_split(X,y, test_size = 0.3, random_state = 4)"
   ]
  },
  {
   "cell_type": "code",
   "execution_count": 722,
   "metadata": {
    "ExecuteTime": {
     "end_time": "2021-06-23T03:17:47.499346Z",
     "start_time": "2021-06-23T03:17:47.479383Z"
    }
   },
   "outputs": [],
   "source": [
    "sc = StandardScaler()\n",
    "X_train = sc.fit_transform(X_train)\n",
    "X_test = sc.transform(X_test)"
   ]
  },
  {
   "cell_type": "markdown",
   "metadata": {},
   "source": [
    "### Fit model"
   ]
  },
  {
   "cell_type": "code",
   "execution_count": 779,
   "metadata": {
    "ExecuteTime": {
     "end_time": "2021-06-23T03:25:25.670287Z",
     "start_time": "2021-06-23T03:25:25.651328Z"
    }
   },
   "outputs": [],
   "source": [
    "model = SVR_mapext(kernel = \"rbf\", C = 11.175720, epsilon = 15.204405, gamma = 0.038651, lamda = 0.1205)"
   ]
  },
  {
   "cell_type": "code",
   "execution_count": 780,
   "metadata": {
    "ExecuteTime": {
     "end_time": "2021-06-23T03:25:26.676422Z",
     "start_time": "2021-06-23T03:25:26.166682Z"
    },
    "scrolled": true
   },
   "outputs": [],
   "source": [
    "fitted = model.fit(X_train,y_train)"
   ]
  },
  {
   "cell_type": "code",
   "execution_count": 781,
   "metadata": {
    "ExecuteTime": {
     "end_time": "2021-06-23T03:25:26.708475Z",
     "start_time": "2021-06-23T03:25:26.676422Z"
    }
   },
   "outputs": [],
   "source": [
    "predict = fitted.predict(X_train)\n",
    "forecast = fitted.predict(X_test)"
   ]
  },
  {
   "cell_type": "markdown",
   "metadata": {},
   "source": [
    "### Metric"
   ]
  },
  {
   "cell_type": "code",
   "execution_count": 791,
   "metadata": {
    "ExecuteTime": {
     "end_time": "2021-06-23T12:37:25.419592Z",
     "start_time": "2021-06-23T12:37:25.396610Z"
    }
   },
   "outputs": [
    {
     "name": "stdout",
     "output_type": "stream",
     "text": [
      "R2_train: 0.869, \n",
      "R2_test: 0.8593\n"
     ]
    }
   ],
   "source": [
    "## R2 \n",
    "r2_train = metrics.r2_score(y_train, predict) \n",
    "r2_test = metrics.r2_score(y_test, forecast)\n",
    "print(f\"R2_train: {r2_train:.4}, \\nR2_test: {r2_test:.4}\")"
   ]
  },
  {
   "cell_type": "code",
   "execution_count": 792,
   "metadata": {
    "ExecuteTime": {
     "end_time": "2021-06-23T12:38:42.792318Z",
     "start_time": "2021-06-23T12:38:42.769321Z"
    }
   },
   "outputs": [
    {
     "name": "stdout",
     "output_type": "stream",
     "text": [
      "MAPE_train: 6.484, \n",
      "MAPE_test: 10.06\n"
     ]
    }
   ],
   "source": [
    "mape_train = mape_score(y_train, predict)\n",
    "mape_test = mape_score(y_test, forecast)\n",
    "print(f\"MAPE_train: {mape_train:.4}, \\nMAPE_test: {mape_test:.4}\")"
   ]
  },
  {
   "cell_type": "code",
   "execution_count": 794,
   "metadata": {
    "ExecuteTime": {
     "end_time": "2021-06-23T12:40:13.884264Z",
     "start_time": "2021-06-23T12:40:13.875235Z"
    }
   },
   "outputs": [
    {
     "name": "stdout",
     "output_type": "stream",
     "text": [
      "MSE_train: 9.861, \n",
      "MSE_test: 14.7\n"
     ]
    }
   ],
   "source": [
    "mse_train = metrics.mean_squared_error(y_train, predict) \n",
    "mse_test = metrics.mean_squared_error(y_test, forecast)\n",
    "print(f\"MSE_train: {mse_train:.4}, \\nMSE_test: {mse_test:.4}\")"
   ]
  },
  {
   "cell_type": "code",
   "execution_count": null,
   "metadata": {},
   "outputs": [],
   "source": []
  }
 ],
 "metadata": {
  "kernelspec": {
   "display_name": "Python 3",
   "language": "python",
   "name": "python3"
  },
  "language_info": {
   "codemirror_mode": {
    "name": "ipython",
    "version": 3
   },
   "file_extension": ".py",
   "mimetype": "text/x-python",
   "name": "python",
   "nbconvert_exporter": "python",
   "pygments_lexer": "ipython3",
   "version": "3.7.7"
  },
  "toc": {
   "base_numbering": 1,
   "nav_menu": {},
   "number_sections": true,
   "sideBar": true,
   "skip_h1_title": false,
   "title_cell": "Table of Contents",
   "title_sidebar": "Contents",
   "toc_cell": false,
   "toc_position": {},
   "toc_section_display": true,
   "toc_window_display": false
  }
 },
 "nbformat": 4,
 "nbformat_minor": 4
}
