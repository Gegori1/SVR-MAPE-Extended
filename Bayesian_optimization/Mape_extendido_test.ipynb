{
 "cells": [
  {
   "cell_type": "markdown",
   "metadata": {},
   "source": [
    "## Libraries"
   ]
  },
  {
   "cell_type": "code",
   "execution_count": 1,
   "metadata": {
    "ExecuteTime": {
     "end_time": "2021-06-17T05:17:57.189812Z",
     "start_time": "2021-06-17T05:17:51.771361Z"
    }
   },
   "outputs": [
    {
     "data": {
      "text/html": [
       "        <script type=\"text/javascript\">\n",
       "        window.PlotlyConfig = {MathJaxConfig: 'local'};\n",
       "        if (window.MathJax) {MathJax.Hub.Config({SVG: {font: \"STIX-Web\"}});}\n",
       "        if (typeof require !== 'undefined') {\n",
       "        require.undef(\"plotly\");\n",
       "        requirejs.config({\n",
       "            paths: {\n",
       "                'plotly': ['https://cdn.plot.ly/plotly-latest.min']\n",
       "            }\n",
       "        });\n",
       "        require(['plotly'], function(Plotly) {\n",
       "            window._Plotly = Plotly;\n",
       "        });\n",
       "        }\n",
       "        </script>\n",
       "        "
      ]
     },
     "metadata": {},
     "output_type": "display_data"
    }
   ],
   "source": [
    "import numpy as np\n",
    "import pandas as pd\n",
    "from sklearn import metrics\n",
    "import matplotlib.pyplot as plt\n",
    "from sklearn.datasets import load_boston\n",
    "from sklearn.model_selection import train_test_split"
   ]
  },
  {
   "cell_type": "code",
   "execution_count": 1,
   "metadata": {
    "ExecuteTime": {
     "end_time": "2021-06-21T20:56:54.797779Z",
     "start_time": "2021-06-21T20:56:53.202441Z"
    }
   },
   "outputs": [],
   "source": [
    "%run ..//Library//MapeExtended_Library.ipynb "
   ]
  },
  {
   "cell_type": "markdown",
   "metadata": {},
   "source": [
    "### Functions"
   ]
  },
  {
   "cell_type": "code",
   "execution_count": 3,
   "metadata": {
    "ExecuteTime": {
     "end_time": "2021-06-17T05:17:57.251611Z",
     "start_time": "2021-06-17T05:17:57.239612Z"
    }
   },
   "outputs": [],
   "source": [
    "def mape_score(y_real, y_predict):\n",
    "    return np.mean(np.abs((y_real - y_predict)/y_real))*100"
   ]
  },
  {
   "cell_type": "markdown",
   "metadata": {},
   "source": [
    "## Boston houses dataset"
   ]
  },
  {
   "cell_type": "code",
   "execution_count": 12,
   "metadata": {
    "ExecuteTime": {
     "end_time": "2021-06-17T05:18:15.215832Z",
     "start_time": "2021-06-17T05:18:15.182831Z"
    }
   },
   "outputs": [],
   "source": [
    "rng = check_random_state(0)\n",
    "boston = load_boston()\n",
    "perm = rng.permutation(boston.target.size)\n",
    "boston.data = boston.data[perm]\n",
    "boston.target = boston.target[perm]\n",
    "# \n",
    "Y = boston.target\n",
    "Y=np.reshape(Y,(len(boston.target),1))\n",
    "X = boston.data"
   ]
  },
  {
   "cell_type": "code",
   "execution_count": 366,
   "metadata": {
    "ExecuteTime": {
     "end_time": "2021-06-18T17:32:24.872013Z",
     "start_time": "2021-06-18T17:32:24.837549Z"
    }
   },
   "outputs": [],
   "source": [
    "boston = load_boston()\n",
    "\n",
    "# Initializing the dataframe\n",
    "data = pd.DataFrame(boston.data)\n",
    "\n",
    "#Adding the feature names to the dataframe\n",
    "data.columns = boston.feature_names\n",
    "data.head()"
   ]
  },
  {
   "cell_type": "code",
   "execution_count": null,
   "metadata": {},
   "outputs": [],
   "source": [
    "#Adding target variable to dataframe\n",
    "data['PRICE'] = boston.target "
   ]
  },
  {
   "cell_type": "code",
   "execution_count": null,
   "metadata": {},
   "outputs": [],
   "source": [
    "# Spliting target variable and independent variables\n",
    "X = data.drop(['PRICE'], axis = 1)\n",
    "y = data['PRICE']"
   ]
  },
  {
   "cell_type": "code",
   "execution_count": null,
   "metadata": {},
   "outputs": [],
   "source": [
    "# Splitting to training and testing data\n",
    "X_train, X_test, y_train, y_test = train_test_split(X,y, test_size = 0.3, random_state = 4)"
   ]
  },
  {
   "cell_type": "code",
   "execution_count": null,
   "metadata": {},
   "outputs": [],
   "source": [
    "sc = StandardScaler()\n",
    "X_train = sc.fit_transform(X_train)\n",
    "X_test = sc.transform(X_test)"
   ]
  },
  {
   "cell_type": "markdown",
   "metadata": {},
   "source": [
    "### Fit model"
   ]
  },
  {
   "cell_type": "code",
   "execution_count": 27,
   "metadata": {
    "ExecuteTime": {
     "end_time": "2021-06-17T05:19:02.369883Z",
     "start_time": "2021-06-17T05:19:02.353886Z"
    }
   },
   "outputs": [],
   "source": [
    "model = SVR_cvxopt_mapext(kernel = \"rbf\", gamma = 0.3)"
   ]
  },
  {
   "cell_type": "code",
   "execution_count": 28,
   "metadata": {
    "ExecuteTime": {
     "end_time": "2021-06-17T05:19:03.247610Z",
     "start_time": "2021-06-17T05:19:02.658923Z"
    }
   },
   "outputs": [],
   "source": [
    "fitted = model.fit(X_train,y_train.reshape(-1))"
   ]
  },
  {
   "cell_type": "code",
   "execution_count": 29,
   "metadata": {
    "ExecuteTime": {
     "end_time": "2021-06-17T05:19:03.279194Z",
     "start_time": "2021-06-17T05:19:03.247610Z"
    }
   },
   "outputs": [],
   "source": [
    "predict = fitted.predict(X_train)\n",
    "forecast = fitted.predict(X_test)"
   ]
  },
  {
   "cell_type": "markdown",
   "metadata": {},
   "source": [
    "### Metric"
   ]
  },
  {
   "cell_type": "code",
   "execution_count": 30,
   "metadata": {
    "ExecuteTime": {
     "end_time": "2021-06-17T05:19:04.119530Z",
     "start_time": "2021-06-17T05:19:04.091529Z"
    }
   },
   "outputs": [
    {
     "data": {
      "text/plain": [
       "(0.8779667410787063, 0.9235547365711272)"
      ]
     },
     "execution_count": 30,
     "metadata": {},
     "output_type": "execute_result"
    }
   ],
   "source": [
    "metrics.r2_score(y_train.reshape(-1), predict), metrics.r2_score(y_test.reshape(-1), forecast)"
   ]
  },
  {
   "cell_type": "code",
   "execution_count": 31,
   "metadata": {
    "ExecuteTime": {
     "end_time": "2021-06-17T05:19:04.932427Z",
     "start_time": "2021-06-17T05:19:04.919468Z"
    }
   },
   "outputs": [
    {
     "data": {
      "text/plain": [
       "(8.050847501265263, 9.653874118979248)"
      ]
     },
     "execution_count": 31,
     "metadata": {},
     "output_type": "execute_result"
    }
   ],
   "source": [
    "mape_score(y_train.reshape(-1), predict), mape_score(y_test.reshape(-1), forecast)"
   ]
  }
 ],
 "metadata": {
  "kernelspec": {
   "display_name": "Python 3",
   "language": "python",
   "name": "python3"
  },
  "language_info": {
   "codemirror_mode": {
    "name": "ipython",
    "version": 3
   },
   "file_extension": ".py",
   "mimetype": "text/x-python",
   "name": "python",
   "nbconvert_exporter": "python",
   "pygments_lexer": "ipython3",
   "version": "3.7.7"
  },
  "toc": {
   "base_numbering": 1,
   "nav_menu": {},
   "number_sections": true,
   "sideBar": true,
   "skip_h1_title": false,
   "title_cell": "Table of Contents",
   "title_sidebar": "Contents",
   "toc_cell": false,
   "toc_position": {},
   "toc_section_display": true,
   "toc_window_display": false
  }
 },
 "nbformat": 4,
 "nbformat_minor": 4
}
