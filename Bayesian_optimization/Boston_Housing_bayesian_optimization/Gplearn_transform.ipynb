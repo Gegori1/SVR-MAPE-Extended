{
 "cells": [
  {
   "cell_type": "markdown",
   "source": [
    "- Symbolic Transformation with gplearn library.\n",
    "    Parameters found at https://gplearn.readthedocs.io/en/stable/examples.html"
   ],
   "metadata": {}
  },
  {
   "cell_type": "markdown",
   "source": [
    "### Libraries"
   ],
   "metadata": {}
  },
  {
   "cell_type": "code",
   "execution_count": 13,
   "source": [
    "from sklearn.model_selection import train_test_split\r\n",
    "from sklearn.preprocessing import StandardScaler\r\n",
    "from sklearn.datasets import load_boston\r\n",
    "import matplotlib.pyplot as plt\r\n",
    "import pandas as pd\r\n",
    "import numpy as np\r\n",
    "from pathlib import Path"
   ],
   "outputs": [],
   "metadata": {
    "ExecuteTime": {
     "end_time": "2021-09-29T02:43:22.371660Z",
     "start_time": "2021-09-29T02:43:22.353672Z"
    }
   }
  },
  {
   "cell_type": "code",
   "execution_count": 14,
   "source": [
    "from gplearn.genetic import SymbolicTransformer\r\n",
    "from gplearn.fitness import make_fitness"
   ],
   "outputs": [],
   "metadata": {
    "ExecuteTime": {
     "end_time": "2021-09-29T02:43:22.559561Z",
     "start_time": "2021-09-29T02:43:22.545478Z"
    }
   }
  },
  {
   "cell_type": "markdown",
   "source": [
    "### Load"
   ],
   "metadata": {}
  },
  {
   "cell_type": "code",
   "execution_count": 15,
   "source": [
    "boston = load_boston()\r\n",
    "\r\n",
    "# Initializing the dataframe\r\n",
    "data = pd.DataFrame(boston.data)\r\n",
    "\r\n",
    "#Adding the feature names to the dataframe\r\n",
    "data.columns = boston.feature_names\r\n",
    "data.head()"
   ],
   "outputs": [
    {
     "output_type": "execute_result",
     "data": {
      "text/html": [
       "<div>\n",
       "<style scoped>\n",
       "    .dataframe tbody tr th:only-of-type {\n",
       "        vertical-align: middle;\n",
       "    }\n",
       "\n",
       "    .dataframe tbody tr th {\n",
       "        vertical-align: top;\n",
       "    }\n",
       "\n",
       "    .dataframe thead th {\n",
       "        text-align: right;\n",
       "    }\n",
       "</style>\n",
       "<table border=\"1\" class=\"dataframe\">\n",
       "  <thead>\n",
       "    <tr style=\"text-align: right;\">\n",
       "      <th></th>\n",
       "      <th>CRIM</th>\n",
       "      <th>ZN</th>\n",
       "      <th>INDUS</th>\n",
       "      <th>CHAS</th>\n",
       "      <th>NOX</th>\n",
       "      <th>RM</th>\n",
       "      <th>AGE</th>\n",
       "      <th>DIS</th>\n",
       "      <th>RAD</th>\n",
       "      <th>TAX</th>\n",
       "      <th>PTRATIO</th>\n",
       "      <th>B</th>\n",
       "      <th>LSTAT</th>\n",
       "    </tr>\n",
       "  </thead>\n",
       "  <tbody>\n",
       "    <tr>\n",
       "      <th>0</th>\n",
       "      <td>0.00632</td>\n",
       "      <td>18.0</td>\n",
       "      <td>2.31</td>\n",
       "      <td>0.0</td>\n",
       "      <td>0.538</td>\n",
       "      <td>6.575</td>\n",
       "      <td>65.2</td>\n",
       "      <td>4.0900</td>\n",
       "      <td>1.0</td>\n",
       "      <td>296.0</td>\n",
       "      <td>15.3</td>\n",
       "      <td>396.90</td>\n",
       "      <td>4.98</td>\n",
       "    </tr>\n",
       "    <tr>\n",
       "      <th>1</th>\n",
       "      <td>0.02731</td>\n",
       "      <td>0.0</td>\n",
       "      <td>7.07</td>\n",
       "      <td>0.0</td>\n",
       "      <td>0.469</td>\n",
       "      <td>6.421</td>\n",
       "      <td>78.9</td>\n",
       "      <td>4.9671</td>\n",
       "      <td>2.0</td>\n",
       "      <td>242.0</td>\n",
       "      <td>17.8</td>\n",
       "      <td>396.90</td>\n",
       "      <td>9.14</td>\n",
       "    </tr>\n",
       "    <tr>\n",
       "      <th>2</th>\n",
       "      <td>0.02729</td>\n",
       "      <td>0.0</td>\n",
       "      <td>7.07</td>\n",
       "      <td>0.0</td>\n",
       "      <td>0.469</td>\n",
       "      <td>7.185</td>\n",
       "      <td>61.1</td>\n",
       "      <td>4.9671</td>\n",
       "      <td>2.0</td>\n",
       "      <td>242.0</td>\n",
       "      <td>17.8</td>\n",
       "      <td>392.83</td>\n",
       "      <td>4.03</td>\n",
       "    </tr>\n",
       "    <tr>\n",
       "      <th>3</th>\n",
       "      <td>0.03237</td>\n",
       "      <td>0.0</td>\n",
       "      <td>2.18</td>\n",
       "      <td>0.0</td>\n",
       "      <td>0.458</td>\n",
       "      <td>6.998</td>\n",
       "      <td>45.8</td>\n",
       "      <td>6.0622</td>\n",
       "      <td>3.0</td>\n",
       "      <td>222.0</td>\n",
       "      <td>18.7</td>\n",
       "      <td>394.63</td>\n",
       "      <td>2.94</td>\n",
       "    </tr>\n",
       "    <tr>\n",
       "      <th>4</th>\n",
       "      <td>0.06905</td>\n",
       "      <td>0.0</td>\n",
       "      <td>2.18</td>\n",
       "      <td>0.0</td>\n",
       "      <td>0.458</td>\n",
       "      <td>7.147</td>\n",
       "      <td>54.2</td>\n",
       "      <td>6.0622</td>\n",
       "      <td>3.0</td>\n",
       "      <td>222.0</td>\n",
       "      <td>18.7</td>\n",
       "      <td>396.90</td>\n",
       "      <td>5.33</td>\n",
       "    </tr>\n",
       "  </tbody>\n",
       "</table>\n",
       "</div>"
      ],
      "text/plain": [
       "      CRIM    ZN  INDUS  CHAS    NOX     RM   AGE     DIS  RAD    TAX  \\\n",
       "0  0.00632  18.0   2.31   0.0  0.538  6.575  65.2  4.0900  1.0  296.0   \n",
       "1  0.02731   0.0   7.07   0.0  0.469  6.421  78.9  4.9671  2.0  242.0   \n",
       "2  0.02729   0.0   7.07   0.0  0.469  7.185  61.1  4.9671  2.0  242.0   \n",
       "3  0.03237   0.0   2.18   0.0  0.458  6.998  45.8  6.0622  3.0  222.0   \n",
       "4  0.06905   0.0   2.18   0.0  0.458  7.147  54.2  6.0622  3.0  222.0   \n",
       "\n",
       "   PTRATIO       B  LSTAT  \n",
       "0     15.3  396.90   4.98  \n",
       "1     17.8  396.90   9.14  \n",
       "2     17.8  392.83   4.03  \n",
       "3     18.7  394.63   2.94  \n",
       "4     18.7  396.90   5.33  "
      ]
     },
     "metadata": {},
     "execution_count": 15
    }
   ],
   "metadata": {
    "ExecuteTime": {
     "end_time": "2021-09-29T02:43:22.962554Z",
     "start_time": "2021-09-29T02:43:22.912501Z"
    }
   }
  },
  {
   "cell_type": "code",
   "execution_count": 16,
   "source": [
    "#Adding target variable to dataframe\r\n",
    "data['PRICE'] = boston.target "
   ],
   "outputs": [],
   "metadata": {
    "ExecuteTime": {
     "end_time": "2021-09-29T02:43:23.085530Z",
     "start_time": "2021-09-29T02:43:23.074530Z"
    }
   }
  },
  {
   "cell_type": "code",
   "execution_count": 17,
   "source": [
    "# Spliting target variable and independent variables\r\n",
    "X = data.drop(['PRICE'], axis = 1)\r\n",
    "y = data['PRICE']"
   ],
   "outputs": [],
   "metadata": {
    "ExecuteTime": {
     "end_time": "2021-09-29T02:43:23.413717Z",
     "start_time": "2021-09-29T02:43:23.395659Z"
    }
   }
  },
  {
   "cell_type": "code",
   "execution_count": 18,
   "source": [
    "# Splitting to training and testing data\r\n",
    "X_train, X_test, y_train, y_test = train_test_split(X, y, test_size = 0.3, random_state = 4)"
   ],
   "outputs": [],
   "metadata": {
    "ExecuteTime": {
     "end_time": "2021-09-29T02:43:23.788167Z",
     "start_time": "2021-09-29T02:43:23.772113Z"
    }
   }
  },
  {
   "cell_type": "code",
   "execution_count": 19,
   "source": [
    "# Standarize\r\n",
    "sc = StandardScaler()\r\n",
    "X_train = sc.fit_transform(X_train)\r\n",
    "X_test = sc.transform(X_test)"
   ],
   "outputs": [],
   "metadata": {
    "ExecuteTime": {
     "end_time": "2021-09-29T02:43:24.068430Z",
     "start_time": "2021-09-29T02:43:24.040276Z"
    }
   }
  },
  {
   "cell_type": "markdown",
   "source": [
    "### Metric Function"
   ],
   "metadata": {}
  },
  {
   "cell_type": "code",
   "execution_count": 20,
   "source": [
    "# custom metric\r\n",
    "def _mape(y, y_pred, w):\r\n",
    "    diffs = np.abs(np.divide((np.maximum(0.001, y) - np.maximum(0.001, y_pred)),np.maximum(0.001, y)))\r\n",
    "    \r\n",
    "    return 100. * np.average(diffs, weights=w)\r\n",
    "\r\n",
    "mape = make_fitness(_mape, greater_is_better=False)"
   ],
   "outputs": [],
   "metadata": {
    "ExecuteTime": {
     "end_time": "2021-09-29T02:43:24.768624Z",
     "start_time": "2021-09-29T02:43:24.752624Z"
    }
   }
  },
  {
   "cell_type": "markdown",
   "source": [
    "### Model"
   ],
   "metadata": {}
  },
  {
   "cell_type": "code",
   "execution_count": 21,
   "source": [
    "function_set = ['add', 'sub', 'mul', 'div',\r\n",
    "                'sqrt', 'log', 'abs', 'neg', 'inv',\r\n",
    "                'max', 'min']\r\n",
    "model = SymbolicTransformer(generations=20, population_size=2000,\r\n",
    "                         hall_of_fame=100, n_components=10,\r\n",
    "                         function_set=function_set, metric = mape,\r\n",
    "                         parsimony_coefficient=0.0005,\r\n",
    "                         max_samples=0.9, verbose=1,\r\n",
    "                         random_state=0, n_jobs=3)"
   ],
   "outputs": [],
   "metadata": {
    "ExecuteTime": {
     "end_time": "2021-09-29T02:43:26.168902Z",
     "start_time": "2021-09-29T02:43:26.146940Z"
    }
   }
  },
  {
   "cell_type": "code",
   "execution_count": 22,
   "source": [
    "model.fit(X_train, y_train)"
   ],
   "outputs": [
    {
     "output_type": "stream",
     "name": "stdout",
     "text": [
      "    |   Population Average    |             Best Individual              |\n",
      "---- ------------------------- ------------------------------------------ ----------\n",
      " Gen   Length          Fitness   Length          Fitness      OOB Fitness  Time Left\n",
      "   0    11.04           106.82        7          58.9013          47.8878      1.23m\n",
      "   1    15.39          92.3175        8          56.4126          54.0611     32.34s\n",
      "   2    21.39          85.5198        8          35.0491          36.9155     36.88s\n",
      "   3    18.88          78.4078       40          33.0389          45.6146     37.52s\n",
      "   4    21.66          75.9168        9          27.6227          30.0582     39.83s\n",
      "   5    22.16          72.8139       15          28.0208          24.4646     41.12s\n",
      "   6    22.38          65.6954       37          26.4276          38.8591     34.72s\n",
      "   7    28.93          60.7943       41          26.0372          29.0035     35.49s\n",
      "   8    36.50          51.4358       44          24.7929          25.5808     31.48s\n",
      "   9    36.40           51.973       62          23.9247          29.2788     27.73s\n",
      "  10    42.34          47.5513       52          22.5264          32.4804     30.12s\n",
      "  11    52.65          45.9738       75          21.4401          26.0022     24.96s\n",
      "  12    59.96          44.9282       70          20.4521          17.5497     22.69s\n",
      "  13    64.33           38.928       69          19.2649           26.469     20.94s\n",
      "  14    70.34            34.63       63          18.3715          26.7837     16.61s\n",
      "  15    74.89          31.4735       79          18.3116          20.9325     15.49s\n",
      "  16    78.39          32.8025       76          18.1092          22.7199     10.36s\n",
      "  17    81.05          30.5304       72          17.8006          25.1682      8.03s\n",
      "  18    86.64          29.6981      136          17.3688          26.9061      3.99s\n",
      "  19   105.62          29.2476      187          16.9442          27.5345      0.00s\n"
     ]
    },
    {
     "output_type": "execute_result",
     "data": {
      "text/plain": [
       "SymbolicTransformer(function_set=['add', 'sub', 'mul', 'div', 'sqrt', 'log',\n",
       "                                  'abs', 'neg', 'inv', 'max', 'min'],\n",
       "                    max_samples=0.9,\n",
       "                    metric=<gplearn.fitness._Fitness object at 0x00000181BF76E0D0>,\n",
       "                    n_jobs=3, parsimony_coefficient=0.0005,\n",
       "                    population_size=2000, random_state=0, verbose=1)"
      ]
     },
     "metadata": {},
     "execution_count": 22
    }
   ],
   "metadata": {
    "ExecuteTime": {
     "end_time": "2021-09-29T02:44:30.615888Z",
     "start_time": "2021-09-29T02:43:27.129521Z"
    },
    "scrolled": true
   }
  },
  {
   "cell_type": "code",
   "execution_count": 27,
   "source": [
    "# Concatenate old and transformed matrix\r\n",
    "gp_features = model.transform(boston.data)\r\n",
    "new_boston = np.hstack((X, gp_features))"
   ],
   "outputs": [],
   "metadata": {
    "ExecuteTime": {
     "end_time": "2021-09-29T02:50:10.855871Z",
     "start_time": "2021-09-29T02:50:10.821907Z"
    }
   }
  },
  {
   "cell_type": "code",
   "execution_count": 28,
   "source": [
    "# Saves new matrix\r\n",
    "pd.DataFrame(new_boston).to_csv(\"newBoston.csv\")"
   ],
   "outputs": [],
   "metadata": {
    "ExecuteTime": {
     "end_time": "2021-09-29T02:50:16.643408Z",
     "start_time": "2021-09-29T02:50:16.585403Z"
    }
   }
  },
  {
   "cell_type": "code",
   "execution_count": null,
   "source": [],
   "outputs": [],
   "metadata": {}
  }
 ],
 "metadata": {
  "kernelspec": {
   "display_name": "Python 3 (ipykernel)",
   "language": "python",
   "name": "python3"
  },
  "language_info": {
   "codemirror_mode": {
    "name": "ipython",
    "version": 3
   },
   "file_extension": ".py",
   "mimetype": "text/x-python",
   "name": "python",
   "nbconvert_exporter": "python",
   "pygments_lexer": "ipython3",
   "version": "3.9.7"
  },
  "toc": {
   "base_numbering": 1,
   "nav_menu": {},
   "number_sections": true,
   "sideBar": true,
   "skip_h1_title": false,
   "title_cell": "Table of Contents",
   "title_sidebar": "Contents",
   "toc_cell": false,
   "toc_position": {},
   "toc_section_display": true,
   "toc_window_display": false
  }
 },
 "nbformat": 4,
 "nbformat_minor": 4
}