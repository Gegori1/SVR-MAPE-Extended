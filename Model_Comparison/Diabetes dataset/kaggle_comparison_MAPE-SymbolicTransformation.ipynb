{
 "cells": [
  {
   "cell_type": "code",
   "execution_count": 51,
   "metadata": {
    "ExecuteTime": {
     "end_time": "2021-09-30T13:11:30.054993Z",
     "start_time": "2021-09-30T13:11:30.043382Z"
    }
   },
   "outputs": [],
   "source": [
    "import pandas as pd\n",
    "import numpy as np\n",
    "from sklearn import metrics"
   ]
  },
  {
   "cell_type": "markdown",
   "metadata": {
    "heading_collapsed": true
   },
   "source": [
    "### Importing the Boston Housing dataset"
   ]
  },
  {
   "cell_type": "code",
   "execution_count": 52,
   "metadata": {
    "ExecuteTime": {
     "end_time": "2021-09-30T13:11:30.544757Z",
     "start_time": "2021-09-30T13:11:30.515706Z"
    },
    "hidden": true
   },
   "outputs": [],
   "source": [
    "from sklearn.datasets import load_diabetes\n",
    "diabetes = load_diabetes()"
   ]
  },
  {
   "cell_type": "code",
   "execution_count": 53,
   "metadata": {
    "ExecuteTime": {
     "end_time": "2021-09-30T13:11:30.760424Z",
     "start_time": "2021-09-30T13:11:30.741306Z"
    },
    "hidden": true
   },
   "outputs": [],
   "source": [
    "# Initializing the dataframe\n",
    "data = pd.DataFrame(diabetes.data)\n",
    "\n",
    "data.columns = diabetes.feature_names\n",
    "\n",
    "data['diabetes'] = diabetes.target "
   ]
  },
  {
   "cell_type": "code",
   "execution_count": 54,
   "metadata": {
    "ExecuteTime": {
     "end_time": "2021-09-30T13:11:30.997081Z",
     "start_time": "2021-09-30T13:11:30.977926Z"
    },
    "hidden": true
   },
   "outputs": [],
   "source": [
    "# Spliting target variable and independent variables\n",
    "X = data.drop(['diabetes'], axis = 1)\n",
    "y = data['diabetes']"
   ]
  },
  {
   "cell_type": "code",
   "execution_count": 55,
   "metadata": {
    "ExecuteTime": {
     "end_time": "2021-09-30T13:11:31.279746Z",
     "start_time": "2021-09-30T13:11:31.257493Z"
    },
    "hidden": true
   },
   "outputs": [],
   "source": [
    "X = pd.read_csv(\"..//..//Bayesian_optimization//Diabetes_Bayesian_optimization//newDiabetes.csv\")"
   ]
  },
  {
   "cell_type": "code",
   "execution_count": 56,
   "metadata": {
    "ExecuteTime": {
     "end_time": "2021-09-30T13:11:31.587894Z",
     "start_time": "2021-09-30T13:11:31.575370Z"
    },
    "hidden": true
   },
   "outputs": [],
   "source": [
    "# Splitting to training and testing data\n",
    "from sklearn.model_selection import train_test_split\n",
    "X_train, X_test, y_train, y_test = train_test_split(X,y, test_size = 0.3, random_state = 4)"
   ]
  },
  {
   "cell_type": "code",
   "execution_count": 57,
   "metadata": {
    "ExecuteTime": {
     "end_time": "2021-09-30T13:11:31.955045Z",
     "start_time": "2021-09-30T13:11:31.938325Z"
    },
    "hidden": true
   },
   "outputs": [],
   "source": [
    "sc = StandardScaler()\n",
    "X_train = sc.fit_transform(X_train)\n",
    "X_test = sc.transform(X_test)"
   ]
  },
  {
   "cell_type": "markdown",
   "metadata": {
    "heading_collapsed": true
   },
   "source": [
    "### Linear Regression"
   ]
  },
  {
   "cell_type": "code",
   "execution_count": 65,
   "metadata": {
    "ExecuteTime": {
     "end_time": "2021-09-30T14:02:15.682969Z",
     "start_time": "2021-09-30T14:02:15.668964Z"
    },
    "hidden": true
   },
   "outputs": [],
   "source": [
    "# Import library for Linear Regression\n",
    "from sklearn.linear_model import LinearRegression"
   ]
  },
  {
   "cell_type": "code",
   "execution_count": 66,
   "metadata": {
    "ExecuteTime": {
     "end_time": "2021-09-30T14:02:15.995586Z",
     "start_time": "2021-09-30T14:02:15.972543Z"
    },
    "hidden": true
   },
   "outputs": [],
   "source": [
    "# Create a Linear regressor\n",
    "lm = LinearRegression()\n",
    "\n",
    "# Train the model using the training sets \n",
    "lm.fit(X_train, y_train);"
   ]
  },
  {
   "cell_type": "code",
   "execution_count": 67,
   "metadata": {
    "ExecuteTime": {
     "end_time": "2021-09-30T14:02:16.275349Z",
     "start_time": "2021-09-30T14:02:16.257311Z"
    },
    "hidden": true
   },
   "outputs": [],
   "source": [
    "# Model prediction on train data\n",
    "y_pred = lm.predict(X_train)\n",
    "\n",
    "# Predicting Test data with the model\n",
    "y_test_pred = lm.predict(X_test)"
   ]
  },
  {
   "cell_type": "code",
   "execution_count": 68,
   "metadata": {
    "ExecuteTime": {
     "end_time": "2021-09-30T14:02:16.602501Z",
     "start_time": "2021-09-30T14:02:16.578510Z"
    },
    "hidden": true
   },
   "outputs": [
    {
     "name": "stdout",
     "output_type": "stream",
     "text": [
      "Linear Regression\n",
      "R^2: 0.4388468563326332\n",
      "Adjusted R^2: 0.33268274807123954\n",
      "MAE: 43.2446662002077\n",
      "MSE: 3003.7768007898912\n",
      "RMSE: 54.80672222264246\n",
      "RMSPE: 58.75354451452647\n",
      "MAPE 38.30408347847151\n"
     ]
    }
   ],
   "source": [
    "# Model Evaluation\n",
    "acc_linreg = metrics.r2_score(y_test, y_test_pred)\n",
    "print('Linear Regression')\n",
    "print('R^2:', acc_linreg)\n",
    "print('Adjusted R^2:',1 - (1-metrics.r2_score(y_test, y_test_pred))*(len(y_test)-1)/(len(y_test)-X_test.shape[1]-1))\n",
    "print('MAE:',metrics.mean_absolute_error(y_test, y_test_pred))\n",
    "print('MSE:',metrics.mean_squared_error(y_test, y_test_pred))\n",
    "print('RMSE:',np.sqrt(metrics.mean_squared_error(y_test, y_test_pred)))\n",
    "print('RMSPE:', np.sqrt(np.mean(np.square((y_test - y_test_pred)/y_test)))*100)\n",
    "print('MAPE',np.mean(np.abs(( y_test - y_test_pred)/y_test))*100)"
   ]
  },
  {
   "cell_type": "markdown",
   "metadata": {
    "ExecuteTime": {
     "end_time": "2021-06-23T04:00:49.350499Z",
     "start_time": "2021-06-23T04:00:49.331464Z"
    },
    "heading_collapsed": true
   },
   "source": [
    "### Random Forest"
   ]
  },
  {
   "cell_type": "code",
   "execution_count": 58,
   "metadata": {
    "ExecuteTime": {
     "end_time": "2021-09-30T13:11:35.319064Z",
     "start_time": "2021-09-30T13:11:35.311822Z"
    },
    "hidden": true
   },
   "outputs": [],
   "source": [
    "from sklearn.ensemble import RandomForestRegressor"
   ]
  },
  {
   "cell_type": "code",
   "execution_count": 62,
   "metadata": {
    "ExecuteTime": {
     "end_time": "2021-09-30T13:57:46.873362Z",
     "start_time": "2021-09-30T13:57:46.716155Z"
    },
    "hidden": true
   },
   "outputs": [],
   "source": [
    "# Create a Random Forest Regressor\n",
    "reg = RandomForestRegressor(random_state = 5, max_depth = 8, n_estimators = 22)\n",
    "\n",
    "# Train the model using the training sets \n",
    "reg.fit(X_train, y_train);"
   ]
  },
  {
   "cell_type": "code",
   "execution_count": 63,
   "metadata": {
    "ExecuteTime": {
     "end_time": "2021-09-30T13:57:47.838373Z",
     "start_time": "2021-09-30T13:57:47.823376Z"
    },
    "hidden": true
   },
   "outputs": [],
   "source": [
    "# Model prediction on train data\n",
    "y_pred = reg.predict(X_train)\n",
    "\n",
    "# Predicting Test data with the model\n",
    "y_test_pred = reg.predict(X_test)"
   ]
  },
  {
   "cell_type": "code",
   "execution_count": 64,
   "metadata": {
    "ExecuteTime": {
     "end_time": "2021-09-30T13:57:48.275064Z",
     "start_time": "2021-09-30T13:57:48.251026Z"
    },
    "hidden": true
   },
   "outputs": [
    {
     "name": "stdout",
     "output_type": "stream",
     "text": [
      "Sklearn Random Forest\n",
      "R^2: 0.43071331190194184\n",
      "Adjusted R^2: 0.3230104249644714\n",
      "MAE: 43.700938957627\n",
      "MSE: 3047.314562887125\n",
      "RMSE: 55.20248692665145\n",
      "RMSPE: 55.29532951128577\n",
      "MAPE 37.90466411223512\n"
     ]
    }
   ],
   "source": [
    "# Model Evaluation\n",
    "acc_rf = metrics.r2_score(y_test, y_test_pred)\n",
    "print('Sklearn Random Forest')\n",
    "print('R^2:', acc_rf)\n",
    "print('Adjusted R^2:',1 - (1-metrics.r2_score(y_test, y_test_pred))*(len(y_test)-1)/(len(y_test)-X_test.shape[1]-1))\n",
    "print('MAE:',metrics.mean_absolute_error(y_test, y_test_pred))\n",
    "print('MSE:',metrics.mean_squared_error(y_test, y_test_pred))\n",
    "print('RMSE:',np.sqrt(metrics.mean_squared_error(y_test, y_test_pred)))\n",
    "print('RMSPE:', np.sqrt(np.mean(np.square((y_test - y_test_pred)/y_test)))*100)\n",
    "print('MAPE',np.mean(np.abs(( y_test - y_test_pred)/y_test))*100)"
   ]
  },
  {
   "cell_type": "markdown",
   "metadata": {
    "heading_collapsed": true
   },
   "source": [
    "### XGBoost Regressor"
   ]
  },
  {
   "cell_type": "code",
   "execution_count": 70,
   "metadata": {
    "ExecuteTime": {
     "end_time": "2021-09-30T14:05:27.549471Z",
     "start_time": "2021-09-30T14:05:27.398276Z"
    },
    "hidden": true
   },
   "outputs": [],
   "source": [
    "# Import XGBoost Regressor\n",
    "from xgboost import XGBRegressor"
   ]
  },
  {
   "cell_type": "code",
   "execution_count": 71,
   "metadata": {
    "ExecuteTime": {
     "end_time": "2021-09-30T14:05:27.753747Z",
     "start_time": "2021-09-30T14:05:27.634736Z"
    },
    "hidden": true
   },
   "outputs": [],
   "source": [
    "#Create a XGBoost Regressor\n",
    "reg = XGBRegressor(objective = \"reg:squarederror\", random_state = 1, eta = 0.31, max_depth = 6, n_estimators = 7)\n",
    "\n",
    "# Train the model using the training sets \n",
    "reg.fit(X_train, y_train);"
   ]
  },
  {
   "cell_type": "code",
   "execution_count": 72,
   "metadata": {
    "ExecuteTime": {
     "end_time": "2021-09-30T14:05:29.009875Z",
     "start_time": "2021-09-30T14:05:28.974876Z"
    },
    "hidden": true
   },
   "outputs": [],
   "source": [
    "# Model prediction on train data\n",
    "y_pred = reg.predict(X_train)\n",
    "\n",
    "#Predicting Test data with the model\n",
    "y_test_pred = reg.predict(X_test)"
   ]
  },
  {
   "cell_type": "code",
   "execution_count": 73,
   "metadata": {
    "ExecuteTime": {
     "end_time": "2021-09-30T14:05:29.691926Z",
     "start_time": "2021-09-30T14:05:29.672929Z"
    },
    "hidden": true
   },
   "outputs": [
    {
     "name": "stdout",
     "output_type": "stream",
     "text": [
      "XGBoost Regressor\n",
      "R^2: 0.3662701426346944\n",
      "Adjusted R^2: 0.24637530475477165\n",
      "MAE: 42.51195021321003\n",
      "MSE: 3392.2701226996487\n",
      "RMSE: 58.24319808097464\n",
      "RMSPE: 48.0043289659634\n",
      "MAPE 32.60194764287617\n"
     ]
    }
   ],
   "source": [
    "# Model Evaluation\n",
    "acc_xgb = metrics.r2_score(y_test, y_test_pred)\n",
    "print('XGBoost Regressor')\n",
    "print('R^2:', acc_xgb)\n",
    "print('Adjusted R^2:',1 - (1-metrics.r2_score(y_test, y_test_pred))*(len(y_test)-1)/(len(y_test)-X_test.shape[1]-1))\n",
    "print('MAE:',metrics.mean_absolute_error(y_test, y_test_pred))\n",
    "print('MSE:',metrics.mean_squared_error(y_test, y_test_pred))\n",
    "print('RMSE:',np.sqrt(metrics.mean_squared_error(y_test, y_test_pred)))\n",
    "print('RMSPE:', np.sqrt(np.mean(np.square((y_test - y_test_pred)/y_test)))*100)\n",
    "print('MAPE',np.mean(np.abs(( y_test - y_test_pred)/y_test))*100)"
   ]
  },
  {
   "cell_type": "markdown",
   "metadata": {
    "heading_collapsed": true
   },
   "source": [
    "### SVR"
   ]
  },
  {
   "cell_type": "code",
   "execution_count": 74,
   "metadata": {
    "ExecuteTime": {
     "end_time": "2021-09-30T14:13:24.247655Z",
     "start_time": "2021-09-30T14:13:24.229618Z"
    },
    "hidden": true
   },
   "outputs": [],
   "source": [
    "# Creating scaled set to be used in model to improve our results\n",
    "from sklearn.preprocessing import StandardScaler\n",
    "# Import SVM Regressor\n",
    "from sklearn import svm"
   ]
  },
  {
   "cell_type": "code",
   "execution_count": 75,
   "metadata": {
    "ExecuteTime": {
     "end_time": "2021-09-30T14:13:24.669331Z",
     "start_time": "2021-09-30T14:13:24.660365Z"
    },
    "hidden": true
   },
   "outputs": [],
   "source": [
    "sc = StandardScaler()\n",
    "X_train = sc.fit_transform(X_train)\n",
    "X_test = sc.transform(X_test)"
   ]
  },
  {
   "cell_type": "code",
   "execution_count": 76,
   "metadata": {
    "ExecuteTime": {
     "end_time": "2021-09-30T14:13:25.043576Z",
     "start_time": "2021-09-30T14:13:25.011573Z"
    },
    "hidden": true
   },
   "outputs": [],
   "source": [
    "# Create a SVM Regressor\n",
    "reg = svm.SVR(C = 933.645625, epsilon = 0.143973, gamma = 0.000212)\n",
    "# Train the model using the training sets \n",
    "reg.fit(X_train, y_train);"
   ]
  },
  {
   "cell_type": "code",
   "execution_count": 77,
   "metadata": {
    "ExecuteTime": {
     "end_time": "2021-09-30T14:13:25.478620Z",
     "start_time": "2021-09-30T14:13:25.426440Z"
    },
    "hidden": true
   },
   "outputs": [],
   "source": [
    "# Model prediction on train data\n",
    "y_pred = reg.predict(X_train)\n",
    "# Predicting Test data with the model\n",
    "y_test_pred = reg.predict(X_test)"
   ]
  },
  {
   "cell_type": "code",
   "execution_count": 78,
   "metadata": {
    "ExecuteTime": {
     "end_time": "2021-09-30T14:13:28.544813Z",
     "start_time": "2021-09-30T14:13:28.520774Z"
    },
    "hidden": true
   },
   "outputs": [
    {
     "name": "stdout",
     "output_type": "stream",
     "text": [
      "Sklearn SVR\n",
      "R^2: 0.426518303245473\n",
      "Adjusted R^2: 0.31802176602164356\n",
      "MAE: 42.97267956458901\n",
      "MSE: 3069.769876242516\n",
      "RMSE: 55.40550402480349\n",
      "RMSPE: 52.45550088519359\n",
      "MAPE 35.498756583854814\n"
     ]
    }
   ],
   "source": [
    "# Model Evaluation\n",
    "acc_svm = metrics.r2_score(y_test, y_test_pred)\n",
    "print('Sklearn SVR')\n",
    "print('R^2:', acc_svm)\n",
    "print('Adjusted R^2:',1 - (1-metrics.r2_score(y_test, y_test_pred))*(len(y_test)-1)/(len(y_test)-X_test.shape[1]-1))\n",
    "print('MAE:',metrics.mean_absolute_error(y_test, y_test_pred))\n",
    "print('MSE:',metrics.mean_squared_error(y_test, y_test_pred))\n",
    "print('RMSE:',np.sqrt(metrics.mean_squared_error(y_test, y_test_pred)))\n",
    "print('RMSPE:', np.sqrt(np.mean(np.square((y_test - y_test_pred)/y_test)))*100)\n",
    "print('MAPE',np.mean(np.abs(( y_test - y_test_pred)/y_test))*100)"
   ]
  },
  {
   "cell_type": "markdown",
   "metadata": {
    "heading_collapsed": true
   },
   "source": [
    "### SVR LS Percentage"
   ]
  },
  {
   "cell_type": "code",
   "execution_count": 79,
   "metadata": {
    "ExecuteTime": {
     "end_time": "2021-09-30T14:32:29.324768Z",
     "start_time": "2021-09-30T14:32:29.146502Z"
    },
    "hidden": true
   },
   "outputs": [],
   "source": [
    "# Creating scaled set to be used in model to improve our results\n",
    "from sklearn.preprocessing import StandardScaler\n",
    "# Import SVR least_square percentage\n",
    "%run ..//..//Library//SVRLSPercent_Library.ipynb"
   ]
  },
  {
   "cell_type": "code",
   "execution_count": 80,
   "metadata": {
    "ExecuteTime": {
     "end_time": "2021-09-30T14:32:29.387358Z",
     "start_time": "2021-09-30T14:32:29.372358Z"
    },
    "hidden": true
   },
   "outputs": [],
   "source": [
    "sc = StandardScaler()\n",
    "X_train = sc.fit_transform(X_train)\n",
    "X_test = sc.transform(X_test)"
   ]
  },
  {
   "cell_type": "code",
   "execution_count": 81,
   "metadata": {
    "ExecuteTime": {
     "end_time": "2021-09-30T14:32:29.809954Z",
     "start_time": "2021-09-30T14:32:29.587790Z"
    },
    "hidden": true
   },
   "outputs": [],
   "source": [
    "# Create a SVM Regressor\n",
    "model = SVR_PerLs(\n",
    "    kernel = \"rbf\", \n",
    "    C = 66175.044420, \n",
    "    gamma = 0.015665, \n",
    ")\n",
    "# Train the model using the training sets \n",
    "model.fit(X_train,y_train);"
   ]
  },
  {
   "cell_type": "code",
   "execution_count": 82,
   "metadata": {
    "ExecuteTime": {
     "end_time": "2021-09-30T14:32:29.842087Z",
     "start_time": "2021-09-30T14:32:29.826061Z"
    },
    "hidden": true
   },
   "outputs": [],
   "source": [
    "# Model prediction on train data\n",
    "y_pred = model.predict(X_train)\n",
    "# Predicting Test data with the model\n",
    "y_test_pred = model.predict(X_test)"
   ]
  },
  {
   "cell_type": "code",
   "execution_count": 83,
   "metadata": {
    "ExecuteTime": {
     "end_time": "2021-09-30T14:32:30.575185Z",
     "start_time": "2021-09-30T14:32:30.544328Z"
    },
    "hidden": true
   },
   "outputs": [
    {
     "name": "stdout",
     "output_type": "stream",
     "text": [
      "SVR MAPE extendido\n",
      "R^2: 0.22546663508993814\n",
      "Adjusted R^2: 0.07893329578262909\n",
      "MAE: 49.03006272233874\n",
      "MSE: 4145.9722345129785\n",
      "RMSE: 64.38922452175503\n",
      "RMSPE: 46.885698814188856\n",
      "MAPE 34.43227575645837\n"
     ]
    }
   ],
   "source": [
    "# Model Evaluation\n",
    "acc_svm = metrics.r2_score(y_test, y_test_pred)\n",
    "print('SVR MAPE extendido')\n",
    "print('R^2:', acc_svm)\n",
    "print('Adjusted R^2:',1 - (1-metrics.r2_score(y_test, y_test_pred))*(len(y_test)-1)/(len(y_test)-X_test.shape[1]-1))\n",
    "print('MAE:',metrics.mean_absolute_error(y_test, y_test_pred))\n",
    "print('MSE:',metrics.mean_squared_error(y_test, y_test_pred))\n",
    "print('RMSE:',np.sqrt(metrics.mean_squared_error(y_test, y_test_pred)))\n",
    "print('RMSPE:', np.sqrt(np.mean(np.square((y_test - y_test_pred)/y_test)))*100)\n",
    "print('MAPE',np.mean(np.abs(( y_test - y_test_pred)/y_test))*100)"
   ]
  }
 ],
 "metadata": {
  "kernelspec": {
   "display_name": "Python 3 (ipykernel)",
   "language": "python",
   "name": "python3"
  },
  "language_info": {
   "codemirror_mode": {
    "name": "ipython",
    "version": 3
   },
   "file_extension": ".py",
   "mimetype": "text/x-python",
   "name": "python",
   "nbconvert_exporter": "python",
   "pygments_lexer": "ipython3",
   "version": "3.9.7"
  },
  "toc": {
   "base_numbering": 1,
   "nav_menu": {},
   "number_sections": true,
   "sideBar": true,
   "skip_h1_title": false,
   "title_cell": "Table of Contents",
   "title_sidebar": "Contents",
   "toc_cell": false,
   "toc_position": {},
   "toc_section_display": true,
   "toc_window_display": false
  }
 },
 "nbformat": 4,
 "nbformat_minor": 4
}
