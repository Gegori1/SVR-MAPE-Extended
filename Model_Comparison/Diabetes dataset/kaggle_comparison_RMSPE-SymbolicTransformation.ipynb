{
 "cells": [
  {
   "cell_type": "code",
   "execution_count": 6,
   "metadata": {
    "ExecuteTime": {
     "end_time": "2021-09-30T13:47:53.081104Z",
     "start_time": "2021-09-30T13:47:52.469447Z"
    }
   },
   "outputs": [],
   "source": [
    "import pandas as pd\n",
    "import numpy as np\n",
    "from sklearn import metrics"
   ]
  },
  {
   "cell_type": "markdown",
   "metadata": {
    "heading_collapsed": true
   },
   "source": [
    "### Importing the Boston Housing dataset"
   ]
  },
  {
   "cell_type": "code",
   "execution_count": 7,
   "metadata": {
    "ExecuteTime": {
     "end_time": "2021-09-30T13:47:53.143786Z",
     "start_time": "2021-09-30T13:47:53.108781Z"
    },
    "hidden": true
   },
   "outputs": [],
   "source": [
    "from sklearn.datasets import load_diabetes\n",
    "diabetes = load_diabetes()"
   ]
  },
  {
   "cell_type": "code",
   "execution_count": 8,
   "metadata": {
    "ExecuteTime": {
     "end_time": "2021-09-30T13:47:53.410481Z",
     "start_time": "2021-09-30T13:47:53.395482Z"
    },
    "hidden": true
   },
   "outputs": [],
   "source": [
    "# Initializing the dataframe\n",
    "data = pd.DataFrame(diabetes.data)\n",
    "\n",
    "data.columns = diabetes.feature_names\n",
    "\n",
    "data['diabetes'] = diabetes.target "
   ]
  },
  {
   "cell_type": "code",
   "execution_count": 9,
   "metadata": {
    "ExecuteTime": {
     "end_time": "2021-09-30T13:47:53.739659Z",
     "start_time": "2021-09-30T13:47:53.728662Z"
    },
    "hidden": true
   },
   "outputs": [],
   "source": [
    "# Spliting target variable and independent variables\n",
    "X = data.drop(['diabetes'], axis = 1)\n",
    "y = data['diabetes']"
   ]
  },
  {
   "cell_type": "code",
   "execution_count": 10,
   "metadata": {
    "ExecuteTime": {
     "end_time": "2021-09-30T13:47:54.054755Z",
     "start_time": "2021-09-30T13:47:54.036725Z"
    },
    "hidden": true
   },
   "outputs": [],
   "source": [
    "X = pd.read_csv(\"..//..//Bayesian_optimization//Diabetes_Bayesian_optimization//newDiabetes.csv\")"
   ]
  },
  {
   "cell_type": "code",
   "execution_count": 11,
   "metadata": {
    "ExecuteTime": {
     "end_time": "2021-09-30T13:47:54.536058Z",
     "start_time": "2021-09-30T13:47:54.518026Z"
    },
    "hidden": true
   },
   "outputs": [],
   "source": [
    "# Splitting to training and testing data\n",
    "from sklearn.model_selection import train_test_split\n",
    "X_train, X_test, y_train, y_test = train_test_split(X,y, test_size = 0.3, random_state = 4)"
   ]
  },
  {
   "cell_type": "markdown",
   "metadata": {
    "heading_collapsed": true
   },
   "source": [
    "### Linear Regression"
   ]
  },
  {
   "cell_type": "code",
   "execution_count": 6,
   "metadata": {
    "ExecuteTime": {
     "end_time": "2021-09-21T22:51:51.745446Z",
     "start_time": "2021-09-21T22:51:51.645446Z"
    },
    "hidden": true
   },
   "outputs": [],
   "source": [
    "# Import library for Linear Regression\n",
    "from sklearn.linear_model import LinearRegression"
   ]
  },
  {
   "cell_type": "code",
   "execution_count": 7,
   "metadata": {
    "ExecuteTime": {
     "end_time": "2021-09-21T22:51:52.153679Z",
     "start_time": "2021-09-21T22:51:52.129680Z"
    },
    "hidden": true
   },
   "outputs": [],
   "source": [
    "# Create a Linear regressor\n",
    "lm = LinearRegression()\n",
    "\n",
    "# Train the model using the training sets \n",
    "lm.fit(X_train, y_train);"
   ]
  },
  {
   "cell_type": "code",
   "execution_count": 8,
   "metadata": {
    "ExecuteTime": {
     "end_time": "2021-09-21T22:51:52.498687Z",
     "start_time": "2021-09-21T22:51:52.486676Z"
    },
    "hidden": true
   },
   "outputs": [],
   "source": [
    "# Model prediction on train data\n",
    "y_pred = lm.predict(X_train)\n",
    "\n",
    "# Predicting Test data with the model\n",
    "y_test_pred = lm.predict(X_test)"
   ]
  },
  {
   "cell_type": "code",
   "execution_count": 9,
   "metadata": {
    "ExecuteTime": {
     "end_time": "2021-09-21T22:51:52.794683Z",
     "start_time": "2021-09-21T22:51:52.769685Z"
    },
    "hidden": true
   },
   "outputs": [
    {
     "name": "stdout",
     "output_type": "stream",
     "text": [
      "Linear Regression\n",
      "R^2: 0.7121818377409181\n",
      "Adjusted R^2: 0.6850685326005699\n",
      "MAE: 3.859005592370746\n",
      "MSE: 30.053993307124284\n",
      "RMSE: 5.482152251362988\n",
      "MAPE 17.8491255362835\n"
     ]
    }
   ],
   "source": [
    "# Model Evaluation\n",
    "acc_linreg = metrics.r2_score(y_test, y_test_pred)\n",
    "print('Linear Regression')\n",
    "print('R^2:', acc_linreg)\n",
    "print('Adjusted R^2:',1 - (1-metrics.r2_score(y_test, y_test_pred))*(len(y_test)-1)/(len(y_test)-X_test.shape[1]-1))\n",
    "print('MAE:',metrics.mean_absolute_error(y_test, y_test_pred))\n",
    "print('MSE:',metrics.mean_squared_error(y_test, y_test_pred))\n",
    "print('RMSE:',np.sqrt(metrics.mean_squared_error(y_test, y_test_pred)))\n",
    "print('RMSPE:', np.sqrt(np.mean(np.square((y_test - y_test_pred)/y_test)))*100)\n",
    "print('MAPE',np.mean(np.abs(( y_test - y_test_pred)/y_test))*100)"
   ]
  },
  {
   "cell_type": "markdown",
   "metadata": {
    "ExecuteTime": {
     "end_time": "2021-06-23T04:00:49.350499Z",
     "start_time": "2021-06-23T04:00:49.331464Z"
    },
    "heading_collapsed": true
   },
   "source": [
    "### Random Forest"
   ]
  },
  {
   "cell_type": "code",
   "execution_count": 12,
   "metadata": {
    "ExecuteTime": {
     "end_time": "2021-09-30T13:47:59.230680Z",
     "start_time": "2021-09-30T13:47:59.221719Z"
    },
    "hidden": true
   },
   "outputs": [],
   "source": [
    "from sklearn.ensemble import RandomForestRegressor"
   ]
  },
  {
   "cell_type": "code",
   "execution_count": 13,
   "metadata": {
    "ExecuteTime": {
     "end_time": "2021-09-30T13:47:59.586296Z",
     "start_time": "2021-09-30T13:47:59.497931Z"
    },
    "hidden": true
   },
   "outputs": [],
   "source": [
    "# Create a Random Forest Regressor\n",
    "reg = RandomForestRegressor(random_state = 4, max_depth = 4, n_estimators = 20)\n",
    "\n",
    "# Train the model using the training sets \n",
    "reg.fit(X_train, y_train);"
   ]
  },
  {
   "cell_type": "code",
   "execution_count": 14,
   "metadata": {
    "ExecuteTime": {
     "end_time": "2021-09-30T13:48:00.007495Z",
     "start_time": "2021-09-30T13:47:59.974493Z"
    },
    "hidden": true
   },
   "outputs": [],
   "source": [
    "# Model prediction on train data\n",
    "y_pred = reg.predict(X_train)\n",
    "\n",
    "# Predicting Test data with the model\n",
    "y_test_pred = reg.predict(X_test)"
   ]
  },
  {
   "cell_type": "code",
   "execution_count": 15,
   "metadata": {
    "ExecuteTime": {
     "end_time": "2021-09-30T13:48:00.538903Z",
     "start_time": "2021-09-30T13:48:00.506735Z"
    },
    "hidden": true
   },
   "outputs": [
    {
     "name": "stdout",
     "output_type": "stream",
     "text": [
      "Sklearn Random Forest\n",
      "R^2: 0.4380122203476092\n",
      "Adjusted R^2: 0.33169020798094073\n",
      "MAE: 44.97048972676724\n",
      "MSE: 3008.2444942122875\n",
      "RMSE: 54.84746570455455\n",
      "RMSPE: 53.26151162731054\n",
      "MAPE 38.53413331672115\n"
     ]
    }
   ],
   "source": [
    "# Model Evaluation\n",
    "acc_rf = metrics.r2_score(y_test, y_test_pred)\n",
    "print('Sklearn Random Forest')\n",
    "print('R^2:', acc_rf)\n",
    "print('Adjusted R^2:',1 - (1-metrics.r2_score(y_test, y_test_pred))*(len(y_test)-1)/(len(y_test)-X_test.shape[1]-1))\n",
    "print('MAE:',metrics.mean_absolute_error(y_test, y_test_pred))\n",
    "print('MSE:',metrics.mean_squared_error(y_test, y_test_pred))\n",
    "print('RMSE:',np.sqrt(metrics.mean_squared_error(y_test, y_test_pred)))\n",
    "print('RMSPE:', np.sqrt(np.mean(np.square((y_test - y_test_pred)/y_test)))*100)\n",
    "print('MAPE',np.mean(np.abs(( y_test - y_test_pred)/y_test))*100)"
   ]
  },
  {
   "cell_type": "markdown",
   "metadata": {
    "heading_collapsed": true
   },
   "source": [
    "### XGBoost Regressor"
   ]
  },
  {
   "cell_type": "code",
   "execution_count": 16,
   "metadata": {
    "ExecuteTime": {
     "end_time": "2021-09-30T14:08:31.663927Z",
     "start_time": "2021-09-30T14:08:31.517157Z"
    },
    "hidden": true
   },
   "outputs": [],
   "source": [
    "# Import XGBoost Regressor\n",
    "from xgboost import XGBRegressor"
   ]
  },
  {
   "cell_type": "code",
   "execution_count": 17,
   "metadata": {
    "ExecuteTime": {
     "end_time": "2021-09-30T14:08:31.882029Z",
     "start_time": "2021-09-30T14:08:31.786030Z"
    },
    "hidden": true
   },
   "outputs": [],
   "source": [
    "#Create a XGBoost Regressor\n",
    "reg = XGBRegressor(objective = \"reg:squarederror\", random_state = 1, eta = 0.19, max_depth = 2, n_estimators = 6)\n",
    "\n",
    "# Train the model using the training sets \n",
    "reg.fit(X_train, y_train);"
   ]
  },
  {
   "cell_type": "code",
   "execution_count": 18,
   "metadata": {
    "ExecuteTime": {
     "end_time": "2021-09-30T14:08:32.848478Z",
     "start_time": "2021-09-30T14:08:32.825484Z"
    },
    "hidden": true
   },
   "outputs": [],
   "source": [
    "# Model prediction on train data\n",
    "y_pred = reg.predict(X_train)\n",
    "\n",
    "#Predicting Test data with the model\n",
    "y_test_pred = reg.predict(X_test)"
   ]
  },
  {
   "cell_type": "code",
   "execution_count": 19,
   "metadata": {
    "ExecuteTime": {
     "end_time": "2021-09-30T14:08:34.356939Z",
     "start_time": "2021-09-30T14:08:34.336937Z"
    },
    "hidden": true
   },
   "outputs": [
    {
     "name": "stdout",
     "output_type": "stream",
     "text": [
      "XGBoost Regressor\n",
      "R^2: 0.09816990242131651\n",
      "Adjusted R^2: -0.07244660252600199\n",
      "MAE: 53.06432503148129\n",
      "MSE: 4827.3744091624985\n",
      "RMSE: 69.47930921621557\n",
      "RMSPE: 40.17984317021758\n",
      "MAPE 33.75378641934911\n"
     ]
    }
   ],
   "source": [
    "# Model Evaluation\n",
    "acc_xgb = metrics.r2_score(y_test, y_test_pred)\n",
    "print('XGBoost Regressor')\n",
    "print('R^2:', acc_xgb)\n",
    "print('Adjusted R^2:',1 - (1-metrics.r2_score(y_test, y_test_pred))*(len(y_test)-1)/(len(y_test)-X_test.shape[1]-1))\n",
    "print('MAE:',metrics.mean_absolute_error(y_test, y_test_pred))\n",
    "print('MSE:',metrics.mean_squared_error(y_test, y_test_pred))\n",
    "print('RMSE:',np.sqrt(metrics.mean_squared_error(y_test, y_test_pred)))\n",
    "print('RMSPE:', np.sqrt(np.mean(np.square((y_test - y_test_pred)/y_test)))*100)\n",
    "print('MAPE',np.mean(np.abs(( y_test - y_test_pred)/y_test))*100)"
   ]
  },
  {
   "cell_type": "markdown",
   "metadata": {
    "heading_collapsed": true
   },
   "source": [
    "### SVR"
   ]
  },
  {
   "cell_type": "code",
   "execution_count": 20,
   "metadata": {
    "ExecuteTime": {
     "end_time": "2021-09-30T14:18:19.623348Z",
     "start_time": "2021-09-30T14:18:19.607784Z"
    },
    "hidden": true
   },
   "outputs": [],
   "source": [
    "# Creating scaled set to be used in model to improve our results\n",
    "from sklearn.preprocessing import StandardScaler\n",
    "# Import SVM Regressor\n",
    "from sklearn import svm"
   ]
  },
  {
   "cell_type": "code",
   "execution_count": 21,
   "metadata": {
    "ExecuteTime": {
     "end_time": "2021-09-30T14:18:19.950576Z",
     "start_time": "2021-09-30T14:18:19.924539Z"
    },
    "hidden": true
   },
   "outputs": [],
   "source": [
    "sc = StandardScaler()\n",
    "X_train = sc.fit_transform(X_train)\n",
    "X_test = sc.transform(X_test)"
   ]
  },
  {
   "cell_type": "code",
   "execution_count": 22,
   "metadata": {
    "ExecuteTime": {
     "end_time": "2021-09-30T14:18:20.231647Z",
     "start_time": "2021-09-30T14:18:20.198612Z"
    },
    "hidden": true
   },
   "outputs": [],
   "source": [
    "# Create a SVM Regressor\n",
    "reg = svm.SVR(C = 192.870894, epsilon = 0.392296, gamma = 0.000409)\n",
    "# Train the model using the training sets \n",
    "reg.fit(X_train, y_train);"
   ]
  },
  {
   "cell_type": "code",
   "execution_count": 23,
   "metadata": {
    "ExecuteTime": {
     "end_time": "2021-09-30T14:18:20.716202Z",
     "start_time": "2021-09-30T14:18:20.664238Z"
    },
    "hidden": true
   },
   "outputs": [],
   "source": [
    "# Model prediction on train data\n",
    "y_pred = reg.predict(X_train)\n",
    "# Predicting Test data with the model\n",
    "y_test_pred = reg.predict(X_test)"
   ]
  },
  {
   "cell_type": "code",
   "execution_count": 24,
   "metadata": {
    "ExecuteTime": {
     "end_time": "2021-09-30T14:18:21.217220Z",
     "start_time": "2021-09-30T14:18:21.185744Z"
    },
    "hidden": true
   },
   "outputs": [
    {
     "name": "stdout",
     "output_type": "stream",
     "text": [
      "Sklearn SVR\n",
      "R^2: 0.40567434898230514\n",
      "Adjusted R^2: 0.29323436095193045\n",
      "MAE: 44.27186112564152\n",
      "MSE: 3181.344741248606\n",
      "RMSE: 56.403410723542294\n",
      "RMSPE: 51.11665526471286\n",
      "MAPE 36.10891521166925\n"
     ]
    }
   ],
   "source": [
    "# Model Evaluation\n",
    "acc_svm = metrics.r2_score(y_test, y_test_pred)\n",
    "print('Sklearn SVR')\n",
    "print('R^2:', acc_svm)\n",
    "print('Adjusted R^2:',1 - (1-metrics.r2_score(y_test, y_test_pred))*(len(y_test)-1)/(len(y_test)-X_test.shape[1]-1))\n",
    "print('MAE:',metrics.mean_absolute_error(y_test, y_test_pred))\n",
    "print('MSE:',metrics.mean_squared_error(y_test, y_test_pred))\n",
    "print('RMSE:',np.sqrt(metrics.mean_squared_error(y_test, y_test_pred)))\n",
    "print('RMSPE:', np.sqrt(np.mean(np.square((y_test - y_test_pred)/y_test)))*100)\n",
    "print('MAPE',np.mean(np.abs(( y_test - y_test_pred)/y_test))*100)"
   ]
  },
  {
   "cell_type": "markdown",
   "metadata": {
    "heading_collapsed": true
   },
   "source": [
    "### SVR LS Percentage"
   ]
  },
  {
   "cell_type": "code",
   "execution_count": 25,
   "metadata": {
    "ExecuteTime": {
     "end_time": "2021-09-30T14:51:13.044175Z",
     "start_time": "2021-09-30T14:51:12.879795Z"
    },
    "hidden": true
   },
   "outputs": [],
   "source": [
    "# Creating scaled set to be used in model to improve our results\n",
    "from sklearn.preprocessing import StandardScaler\n",
    "# Import SVR least_square percentage\n",
    "%run ..//..//Library//SVRLSPercent_Library.ipynb"
   ]
  },
  {
   "cell_type": "code",
   "execution_count": 26,
   "metadata": {
    "ExecuteTime": {
     "end_time": "2021-09-30T14:51:13.216537Z",
     "start_time": "2021-09-30T14:51:13.208538Z"
    },
    "hidden": true
   },
   "outputs": [],
   "source": [
    "sc = StandardScaler()\n",
    "X_train = sc.fit_transform(X_train)\n",
    "X_test = sc.transform(X_test)"
   ]
  },
  {
   "cell_type": "code",
   "execution_count": 27,
   "metadata": {
    "ExecuteTime": {
     "end_time": "2021-09-30T14:51:13.779197Z",
     "start_time": "2021-09-30T14:51:13.578492Z"
    },
    "hidden": true
   },
   "outputs": [],
   "source": [
    "# Create a SVM Regressor\n",
    "model = SVR_PerLs(\n",
    "    kernel = \"rbf\", \n",
    "    C = 2667.624586,  \n",
    "    gamma = 0.006540,\n",
    ")\n",
    "# Train the model using the training sets \n",
    "model.fit(X_train,y_train);"
   ]
  },
  {
   "cell_type": "code",
   "execution_count": 28,
   "metadata": {
    "ExecuteTime": {
     "end_time": "2021-09-30T14:51:14.074510Z",
     "start_time": "2021-09-30T14:51:14.051493Z"
    },
    "hidden": true
   },
   "outputs": [],
   "source": [
    "# Model prediction on train data\n",
    "y_pred = model.predict(X_train)\n",
    "# Predicting Test data with the model\n",
    "y_test_pred = model.predict(X_test)"
   ]
  },
  {
   "cell_type": "code",
   "execution_count": 29,
   "metadata": {
    "ExecuteTime": {
     "end_time": "2021-09-30T14:51:15.961142Z",
     "start_time": "2021-09-30T14:51:15.929145Z"
    },
    "hidden": true
   },
   "outputs": [
    {
     "name": "stdout",
     "output_type": "stream",
     "text": [
      "SVR MAPE extendido\n",
      "R^2: -0.11292489338616263\n",
      "Adjusted R^2: -0.3234782515943557\n",
      "MAE: 58.516016442722645\n",
      "MSE: 5957.336269965774\n",
      "RMSE: 77.18378242847245\n",
      "RMSPE: 41.38205397392275\n",
      "MAPE 36.04016708618486\n"
     ]
    }
   ],
   "source": [
    "# Model Evaluation\n",
    "acc_svm = metrics.r2_score(y_test, y_test_pred)\n",
    "print('SVR MAPE extendido')\n",
    "print('R^2:', acc_svm)\n",
    "print('Adjusted R^2:',1 - (1-metrics.r2_score(y_test, y_test_pred))*(len(y_test)-1)/(len(y_test)-X_test.shape[1]-1))\n",
    "print('MAE:',metrics.mean_absolute_error(y_test, y_test_pred))\n",
    "print('MSE:',metrics.mean_squared_error(y_test, y_test_pred))\n",
    "print('RMSE:',np.sqrt(metrics.mean_squared_error(y_test, y_test_pred)))\n",
    "print('RMSPE:', np.sqrt(np.mean(np.square((y_test - y_test_pred)/y_test)))*100)\n",
    "print('MAPE',np.mean(np.abs(( y_test - y_test_pred)/y_test))*100)"
   ]
  }
 ],
 "metadata": {
  "kernelspec": {
   "display_name": "Python 3 (ipykernel)",
   "language": "python",
   "name": "python3"
  },
  "language_info": {
   "codemirror_mode": {
    "name": "ipython",
    "version": 3
   },
   "file_extension": ".py",
   "mimetype": "text/x-python",
   "name": "python",
   "nbconvert_exporter": "python",
   "pygments_lexer": "ipython3",
   "version": "3.9.7"
  },
  "toc": {
   "base_numbering": 1,
   "nav_menu": {},
   "number_sections": true,
   "sideBar": true,
   "skip_h1_title": false,
   "title_cell": "Table of Contents",
   "title_sidebar": "Contents",
   "toc_cell": false,
   "toc_position": {},
   "toc_section_display": true,
   "toc_window_display": false
  }
 },
 "nbformat": 4,
 "nbformat_minor": 4
}
