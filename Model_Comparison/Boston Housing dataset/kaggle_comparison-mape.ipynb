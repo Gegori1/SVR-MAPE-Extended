{
 "cells": [
  {
   "cell_type": "code",
   "execution_count": 2,
   "metadata": {
    "ExecuteTime": {
     "end_time": "2021-10-06T17:26:36.112256Z",
     "start_time": "2021-10-06T17:26:32.489459Z"
    }
   },
   "outputs": [],
   "source": [
    "import pandas as pd\n",
    "import numpy as np\n",
    "from sklearn import metrics\n",
    "import matplotlib.pyplot as plt\n",
    "import seaborn as sns"
   ]
  },
  {
   "cell_type": "markdown",
   "metadata": {},
   "source": [
    "### Importing the Boston Housing dataset"
   ]
  },
  {
   "cell_type": "code",
   "execution_count": 3,
   "metadata": {
    "ExecuteTime": {
     "end_time": "2021-10-06T17:26:36.236365Z",
     "start_time": "2021-10-06T17:26:36.116289Z"
    }
   },
   "outputs": [],
   "source": [
    "from sklearn.datasets import load_boston\n",
    "boston = load_boston()"
   ]
  },
  {
   "cell_type": "code",
   "execution_count": 4,
   "metadata": {
    "ExecuteTime": {
     "end_time": "2021-10-06T17:26:36.252312Z",
     "start_time": "2021-10-06T17:26:36.239316Z"
    }
   },
   "outputs": [],
   "source": [
    "# Initializing the dataframe\n",
    "data = pd.DataFrame(boston.data)\n",
    "\n",
    "data.columns = boston.feature_names\n",
    "\n",
    "data['PRICE'] = boston.target "
   ]
  },
  {
   "cell_type": "code",
   "execution_count": 5,
   "metadata": {
    "ExecuteTime": {
     "end_time": "2021-10-06T17:26:36.267281Z",
     "start_time": "2021-10-06T17:26:36.256279Z"
    }
   },
   "outputs": [],
   "source": [
    "# Spliting target variable and independent variables\n",
    "X = data.drop(['PRICE'], axis = 1)\n",
    "y = data['PRICE']"
   ]
  },
  {
   "cell_type": "code",
   "execution_count": 6,
   "metadata": {
    "ExecuteTime": {
     "end_time": "2021-10-06T17:26:36.298276Z",
     "start_time": "2021-10-06T17:26:36.271287Z"
    }
   },
   "outputs": [],
   "source": [
    "# Splitting to training and testing data\n",
    "from sklearn.model_selection import train_test_split\n",
    "X_train, X_test, y_train, y_test = train_test_split(X,y, test_size = 0.3, random_state = 4)"
   ]
  },
  {
   "cell_type": "markdown",
   "metadata": {
    "heading_collapsed": true
   },
   "source": [
    "### Linear Regression"
   ]
  },
  {
   "cell_type": "code",
   "execution_count": 6,
   "metadata": {
    "ExecuteTime": {
     "end_time": "2021-09-28T12:48:50.085212Z",
     "start_time": "2021-09-28T12:48:49.919158Z"
    },
    "hidden": true
   },
   "outputs": [],
   "source": [
    "# Import library for Linear Regression\n",
    "from sklearn.linear_model import LinearRegression"
   ]
  },
  {
   "cell_type": "code",
   "execution_count": 7,
   "metadata": {
    "ExecuteTime": {
     "end_time": "2021-09-28T12:48:50.117213Z",
     "start_time": "2021-09-28T12:48:50.089213Z"
    },
    "hidden": true
   },
   "outputs": [],
   "source": [
    "# Create a Linear regressor\n",
    "lm = LinearRegression()\n",
    "\n",
    "# Train the model using the training sets \n",
    "lm.fit(X_train, y_train);"
   ]
  },
  {
   "cell_type": "code",
   "execution_count": 8,
   "metadata": {
    "ExecuteTime": {
     "end_time": "2021-09-28T12:48:50.148529Z",
     "start_time": "2021-09-28T12:48:50.121210Z"
    },
    "hidden": true
   },
   "outputs": [],
   "source": [
    "# Model prediction on train data\n",
    "y_pred = lm.predict(X_train)\n",
    "\n",
    "# Predicting Test data with the model\n",
    "y_test_pred = lm.predict(X_test)"
   ]
  },
  {
   "cell_type": "code",
   "execution_count": 9,
   "metadata": {
    "ExecuteTime": {
     "end_time": "2021-09-28T12:48:50.195294Z",
     "start_time": "2021-09-28T12:48:50.154213Z"
    },
    "hidden": true
   },
   "outputs": [
    {
     "name": "stdout",
     "output_type": "stream",
     "text": [
      "Linear Regression\n",
      "R^2: 0.7121818377409181\n",
      "Adjusted R^2: 0.6850685326005699\n",
      "MAE: 3.859005592370746\n",
      "MSE: 30.053993307124284\n",
      "RMSE: 5.482152251362988\n",
      "MAPE:  17.8491255362835\n",
      "RMSPE:  25.698338151358023\n"
     ]
    }
   ],
   "source": [
    "# Model Evaluation\n",
    "acc_linreg = metrics.r2_score(y_test, y_test_pred)\n",
    "print('Linear Regression')\n",
    "print('R^2:', acc_linreg)\n",
    "print('Adjusted R^2:',1 - (1-metrics.r2_score(y_test, y_test_pred))*(len(y_test)-1)/(len(y_test)-X_test.shape[1]-1))\n",
    "print('MAE:',metrics.mean_absolute_error(y_test, y_test_pred))\n",
    "print('MSE:',metrics.mean_squared_error(y_test, y_test_pred))\n",
    "print('RMSE:',np.sqrt(metrics.mean_squared_error(y_test, y_test_pred)))\n",
    "print('MAPE: ',np.mean(np.abs(( y_test - y_test_pred)/y_test))*100)\n",
    "print('RMSPE: ',np.sqrt(np.mean(np.square(( y_test - y_test_pred)/y_test)))*100)"
   ]
  },
  {
   "cell_type": "markdown",
   "metadata": {
    "ExecuteTime": {
     "end_time": "2021-06-23T04:00:49.350499Z",
     "start_time": "2021-06-23T04:00:49.331464Z"
    },
    "heading_collapsed": true
   },
   "source": [
    "### Random Forest"
   ]
  },
  {
   "cell_type": "code",
   "execution_count": 10,
   "metadata": {
    "ExecuteTime": {
     "end_time": "2021-09-28T12:48:53.269834Z",
     "start_time": "2021-09-28T12:48:52.993850Z"
    },
    "hidden": true
   },
   "outputs": [],
   "source": [
    "from sklearn.ensemble import RandomForestRegressor"
   ]
  },
  {
   "cell_type": "code",
   "execution_count": 11,
   "metadata": {
    "ExecuteTime": {
     "end_time": "2021-09-28T12:48:54.049049Z",
     "start_time": "2021-09-28T12:48:53.484991Z"
    },
    "hidden": true
   },
   "outputs": [],
   "source": [
    "# Create a Random Forest Regressor\n",
    "reg = RandomForestRegressor(random_state = 1, max_depth = 14, n_estimators = 66)\n",
    "\n",
    "# Train the model using the training sets \n",
    "reg.fit(X_train, y_train);"
   ]
  },
  {
   "cell_type": "code",
   "execution_count": 12,
   "metadata": {
    "ExecuteTime": {
     "end_time": "2021-09-28T12:48:54.140267Z",
     "start_time": "2021-09-28T12:48:54.076064Z"
    },
    "hidden": true
   },
   "outputs": [],
   "source": [
    "# Model prediction on train data\n",
    "y_pred = reg.predict(X_train)\n",
    "\n",
    "# Predicting Test data with the model\n",
    "y_test_pred = reg.predict(X_test)"
   ]
  },
  {
   "cell_type": "code",
   "execution_count": 13,
   "metadata": {
    "ExecuteTime": {
     "end_time": "2021-09-28T12:48:55.179461Z",
     "start_time": "2021-09-28T12:48:55.142462Z"
    },
    "hidden": true
   },
   "outputs": [
    {
     "name": "stdout",
     "output_type": "stream",
     "text": [
      "Sklearn Random Forest\n",
      "R^2: 0.8414638981312722\n",
      "Adjusted R^2: 0.8265293378103051\n",
      "MAE: 2.4284223290616884\n",
      "MSE: 16.554351216416233\n",
      "RMSE: 4.068703874259742\n",
      "MAPE:  11.650360883728617\n",
      "RMSPE:  19.139825210626494\n"
     ]
    }
   ],
   "source": [
    "# Model Evaluation\n",
    "acc_rf = metrics.r2_score(y_test, y_test_pred)\n",
    "print('Sklearn Random Forest')\n",
    "print('R^2:', acc_rf)\n",
    "print('Adjusted R^2:',1 - (1-metrics.r2_score(y_test, y_test_pred))*(len(y_test)-1)/(len(y_test)-X_test.shape[1]-1))\n",
    "print('MAE:',metrics.mean_absolute_error(y_test, y_test_pred))\n",
    "print('MSE:',metrics.mean_squared_error(y_test, y_test_pred))\n",
    "print('RMSE:',np.sqrt(metrics.mean_squared_error(y_test, y_test_pred)))\n",
    "print('MAPE: ',np.mean(np.abs(( y_test - y_test_pred)/y_test))*100)\n",
    "print('RMSPE: ',np.sqrt(np.mean(np.square(( y_test - y_test_pred)/y_test)))*100)"
   ]
  },
  {
   "cell_type": "markdown",
   "metadata": {
    "heading_collapsed": true
   },
   "source": [
    "### XGBoost Regressor"
   ]
  },
  {
   "cell_type": "code",
   "execution_count": 14,
   "metadata": {
    "ExecuteTime": {
     "end_time": "2021-09-28T12:49:07.626588Z",
     "start_time": "2021-09-28T12:49:07.346959Z"
    },
    "hidden": true
   },
   "outputs": [],
   "source": [
    "# Import XGBoost Regressor\n",
    "from xgboost import XGBRegressor"
   ]
  },
  {
   "cell_type": "code",
   "execution_count": 18,
   "metadata": {
    "ExecuteTime": {
     "end_time": "2021-09-28T12:53:36.974741Z",
     "start_time": "2021-09-28T12:53:36.326170Z"
    },
    "hidden": true
   },
   "outputs": [],
   "source": [
    "#Create a XGBoost Regressor\n",
    "reg = XGBRegressor(objective = \"reg:squarederror\", random_state = 1, max_depth = 6, n_estimators = 194, eta = 0.085562)\n",
    "\n",
    "# Train the model using the training sets \n",
    "reg.fit(X_train, y_train);"
   ]
  },
  {
   "cell_type": "code",
   "execution_count": 19,
   "metadata": {
    "ExecuteTime": {
     "end_time": "2021-09-28T12:53:37.005839Z",
     "start_time": "2021-09-28T12:53:36.978724Z"
    },
    "hidden": true
   },
   "outputs": [],
   "source": [
    "# Model prediction on train data\n",
    "y_pred = reg.predict(X_train)\n",
    "\n",
    "#Predicting Test data with the model\n",
    "y_test_pred = reg.predict(X_test)"
   ]
  },
  {
   "cell_type": "code",
   "execution_count": 20,
   "metadata": {
    "ExecuteTime": {
     "end_time": "2021-09-28T12:53:41.399748Z",
     "start_time": "2021-09-28T12:53:41.357263Z"
    },
    "hidden": true
   },
   "outputs": [
    {
     "name": "stdout",
     "output_type": "stream",
     "text": [
      "XGBoost Regressor\n",
      "R^2: 0.8740577765633409\n",
      "Adjusted R^2: 0.8621936540656847\n",
      "MAE: 2.2420989281252814\n",
      "MSE: 13.150896074593591\n",
      "RMSE: 3.6264164232191525\n",
      "MAPE:  10.55771376382303\n",
      "RMSPE:  16.489061302356763\n"
     ]
    }
   ],
   "source": [
    "# Model Evaluation\n",
    "acc_xgb = metrics.r2_score(y_test, y_test_pred)\n",
    "print('XGBoost Regressor')\n",
    "print('R^2:', acc_xgb)\n",
    "print('Adjusted R^2:',1 - (1-metrics.r2_score(y_test, y_test_pred))*(len(y_test)-1)/(len(y_test)-X_test.shape[1]-1))\n",
    "print('MAE:',metrics.mean_absolute_error(y_test, y_test_pred))\n",
    "print('MSE:',metrics.mean_squared_error(y_test, y_test_pred))\n",
    "print('RMSE:',np.sqrt(metrics.mean_squared_error(y_test, y_test_pred)))\n",
    "print('MAPE: ',np.mean(np.abs(( y_test - y_test_pred)/y_test))*100)\n",
    "print('RMSPE: ',np.sqrt(np.mean(np.square(( y_test - y_test_pred)/y_test)))*100)"
   ]
  },
  {
   "cell_type": "markdown",
   "metadata": {
    "heading_collapsed": true
   },
   "source": [
    "### SVR"
   ]
  },
  {
   "cell_type": "code",
   "execution_count": 21,
   "metadata": {
    "ExecuteTime": {
     "end_time": "2021-09-28T13:56:24.129072Z",
     "start_time": "2021-09-28T13:56:24.107073Z"
    },
    "hidden": true
   },
   "outputs": [],
   "source": [
    "# Creating scaled set to be used in model to improve our results\n",
    "from sklearn.preprocessing import StandardScaler\n",
    "# Import SVM Regressor\n",
    "from sklearn import svm"
   ]
  },
  {
   "cell_type": "code",
   "execution_count": 22,
   "metadata": {
    "ExecuteTime": {
     "end_time": "2021-09-28T13:56:24.499074Z",
     "start_time": "2021-09-28T13:56:24.471069Z"
    },
    "hidden": true
   },
   "outputs": [],
   "source": [
    "sc = StandardScaler()\n",
    "X_train = sc.fit_transform(X_train)\n",
    "X_test = sc.transform(X_test)"
   ]
  },
  {
   "cell_type": "code",
   "execution_count": 23,
   "metadata": {
    "ExecuteTime": {
     "end_time": "2021-09-28T13:56:26.537711Z",
     "start_time": "2021-09-28T13:56:26.463711Z"
    },
    "hidden": true
   },
   "outputs": [],
   "source": [
    "# Create a SVM Regressor\n",
    "reg = svm.SVR(C = 97.746279, epsilon = 0.162748, gamma = 0.055369)\n",
    "# Train the model using the training sets \n",
    "reg.fit(X_train, y_train);"
   ]
  },
  {
   "cell_type": "code",
   "execution_count": 24,
   "metadata": {
    "ExecuteTime": {
     "end_time": "2021-09-28T13:56:27.082501Z",
     "start_time": "2021-09-28T13:56:26.987501Z"
    },
    "hidden": true
   },
   "outputs": [],
   "source": [
    "# Model prediction on train data\n",
    "y_pred = reg.predict(X_train)\n",
    "# Predicting Test data with the model\n",
    "y_test_pred = reg.predict(X_test)"
   ]
  },
  {
   "cell_type": "code",
   "execution_count": 25,
   "metadata": {
    "ExecuteTime": {
     "end_time": "2021-09-28T13:56:33.240025Z",
     "start_time": "2021-09-28T13:56:33.201028Z"
    },
    "hidden": true
   },
   "outputs": [
    {
     "name": "stdout",
     "output_type": "stream",
     "text": [
      "Sklearn SVR\n",
      "R^2: 0.8943439917376668\n",
      "Adjusted R^2: 0.8843908895100556\n",
      "MAE: 2.017308677327437\n",
      "MSE: 11.032608019765203\n",
      "RMSE: 3.321536996597389\n",
      "MAPE 10.047470801761401\n",
      "RMSPE 17.925495273751967\n"
     ]
    }
   ],
   "source": [
    "# Model Evaluation\n",
    "acc_svm = metrics.r2_score(y_test, y_test_pred)\n",
    "print('Sklearn SVR')\n",
    "print('R^2:', acc_svm)\n",
    "print('Adjusted R^2:',1 - (1-metrics.r2_score(y_test, y_test_pred))*(len(y_test)-1)/(len(y_test)-X_test.shape[1]-1))\n",
    "print('MAE:',metrics.mean_absolute_error(y_test, y_test_pred))\n",
    "print('MSE:',metrics.mean_squared_error(y_test, y_test_pred))\n",
    "print('RMSE:',np.sqrt(metrics.mean_squared_error(y_test, y_test_pred)))\n",
    "print('MAPE',np.mean(np.abs(( y_test - y_test_pred)/y_test))*100)\n",
    "print('RMSPE',np.sqrt(np.mean(np.square(( y_test - y_test_pred)/y_test)))*100)"
   ]
  },
  {
   "cell_type": "markdown",
   "metadata": {},
   "source": [
    "### SVR Extended MAPE"
   ]
  },
  {
   "cell_type": "code",
   "execution_count": 7,
   "metadata": {
    "ExecuteTime": {
     "end_time": "2021-10-06T17:26:37.986096Z",
     "start_time": "2021-10-06T17:26:37.771395Z"
    }
   },
   "outputs": [],
   "source": [
    "# Creating scaled set to be used in model to improve our results\n",
    "from sklearn.preprocessing import StandardScaler\n",
    "# Import SVR Extended MAPE\n",
    "%run ..//..//Library//MapeExtended_Library.ipynb "
   ]
  },
  {
   "cell_type": "code",
   "execution_count": 8,
   "metadata": {
    "ExecuteTime": {
     "end_time": "2021-10-06T17:26:38.141605Z",
     "start_time": "2021-10-06T17:26:38.111606Z"
    }
   },
   "outputs": [],
   "source": [
    "sc = StandardScaler()\n",
    "X_train = sc.fit_transform(X_train)\n",
    "X_test = sc.transform(X_test)"
   ]
  },
  {
   "cell_type": "code",
   "execution_count": 9,
   "metadata": {
    "ExecuteTime": {
     "end_time": "2021-10-06T17:26:40.707014Z",
     "start_time": "2021-10-06T17:26:39.938120Z"
    }
   },
   "outputs": [],
   "source": [
    "# Create a SVM Regressor\n",
    "model = SVR_mapext(\n",
    "    kernel = \"rbf\", \n",
    "    C = 35.8717,\n",
    "    gamma = 0.061453,\n",
    "    epsilon = 29.297405,\n",
    "    lamda = 0.005214\n",
    ")\n",
    "# Train the model using the training sets \n",
    "model.fit(X_train,y_train);"
   ]
  },
  {
   "cell_type": "code",
   "execution_count": 10,
   "metadata": {
    "ExecuteTime": {
     "end_time": "2021-10-06T17:26:40.737690Z",
     "start_time": "2021-10-06T17:26:40.711026Z"
    }
   },
   "outputs": [],
   "source": [
    "# Model prediction on train data\n",
    "y_pred = model.predict(X_train)\n",
    "# Predicting Test data with the model\n",
    "y_test_pred = model.predict(X_test)"
   ]
  },
  {
   "cell_type": "code",
   "execution_count": 11,
   "metadata": {
    "ExecuteTime": {
     "end_time": "2021-10-06T17:26:41.313809Z",
     "start_time": "2021-10-06T17:26:41.283805Z"
    }
   },
   "outputs": [
    {
     "name": "stdout",
     "output_type": "stream",
     "text": [
      "SVR-Extended MAPE\n",
      "R^2: 0.8989462698064347\n",
      "Adjusted R^2: 0.8894267155128379\n",
      "MAE: 2.0186920630333844\n",
      "MSE: 10.55203781116326\n",
      "RMSE: 3.2483900337187435\n",
      "MAPE 9.968729740270929\n",
      "RMSPE 17.694084136400186\n"
     ]
    }
   ],
   "source": [
    "# Model Evaluation\n",
    "acc_svm = metrics.r2_score(y_test, y_test_pred)\n",
    "print('SVR-Extended MAPE')\n",
    "print('R^2:', acc_svm)\n",
    "print('Adjusted R^2:',1 - (1-metrics.r2_score(y_test, y_test_pred))*(len(y_test)-1)/(len(y_test)-X_test.shape[1]-1))\n",
    "print('MAE:',metrics.mean_absolute_error(y_test, y_test_pred))\n",
    "print('MSE:',metrics.mean_squared_error(y_test, y_test_pred))\n",
    "print('RMSE:',np.sqrt(metrics.mean_squared_error(y_test, y_test_pred)))\n",
    "print('MAPE',np.mean(np.abs(( y_test - y_test_pred)/y_test))*100)\n",
    "print('RMSPE',np.sqrt(np.mean(np.square(( y_test - y_test_pred)/y_test)))*100)"
   ]
  },
  {
   "cell_type": "code",
   "execution_count": null,
   "metadata": {},
   "outputs": [],
   "source": []
  }
 ],
 "metadata": {
  "kernelspec": {
   "display_name": "Python 3 (ipykernel)",
   "language": "python",
   "name": "python3"
  },
  "language_info": {
   "codemirror_mode": {
    "name": "ipython",
    "version": 3
   },
   "file_extension": ".py",
   "mimetype": "text/x-python",
   "name": "python",
   "nbconvert_exporter": "python",
   "pygments_lexer": "ipython3",
   "version": "3.9.7"
  },
  "toc": {
   "base_numbering": 1,
   "nav_menu": {},
   "number_sections": true,
   "sideBar": true,
   "skip_h1_title": false,
   "title_cell": "Table of Contents",
   "title_sidebar": "Contents",
   "toc_cell": false,
   "toc_position": {},
   "toc_section_display": true,
   "toc_window_display": false
  }
 },
 "nbformat": 4,
 "nbformat_minor": 4
}
